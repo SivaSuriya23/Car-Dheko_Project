{
 "cells": [
  {
   "cell_type": "markdown",
   "id": "b07034b9-1712-44f6-85b7-eaada5015bf6",
   "metadata": {},
   "source": [
    "# CarDheko Project - Used Car Price Prediction "
   ]
  },
  {
   "cell_type": "markdown",
   "id": "7cd0e0f5-7425-4fff-9cf0-9803176898ae",
   "metadata": {},
   "source": [
    "## 1. Data Merging\n",
    "### Reading all the different cities with car details excel file"
   ]
  },
  {
   "cell_type": "code",
   "execution_count": 1,
   "id": "d85c429e-42f4-44b8-aca9-8ecb786ece69",
   "metadata": {},
   "outputs": [],
   "source": [
    "import pandas as pd\n",
    "import numpy as np\n",
    "import ast\n",
    "import re\n",
    "import matplotlib.pyplot as plt\n",
    "import seaborn as sns\n",
    "import scipy.stats as stats\n",
    "\n",
    "\n",
    "df_bangalore = pd.read_excel(\"bangalore_cars.xlsx\")\n",
    "df_bangalore['Location']='Bangalore'\n",
    "\n",
    "df_chennai = pd.read_excel(\"chennai_cars.xlsx\")\n",
    "df_chennai['Location']='Chennai'\n",
    "\n",
    "df_kolkata = pd.read_excel(\"kolkata_cars.xlsx\")\n",
    "df_kolkata['Location']='Kolkata'\n",
    "\n",
    "df_hyderabad = pd.read_excel(\"hyderabad_cars.xlsx\")\n",
    "df_hyderabad['Location']='Hyderabad'\n",
    "\n",
    "df_delhi = pd.read_excel(\"delhi_cars.xlsx\")\n",
    "df_delhi['Location']='Delhi'\n",
    "\n",
    "df_jaipur = pd.read_excel(\"jaipur_cars.xlsx\")\n",
    "df_jaipur['Location']='Jaipur'\n"
   ]
  },
  {
   "cell_type": "markdown",
   "id": "8771e5f6-d361-43ba-842f-b4f0a6e66382",
   "metadata": {},
   "source": [
    "### Merging all the cities into one file for further processing"
   ]
  },
  {
   "cell_type": "code",
   "execution_count": 2,
   "id": "0b313ea5-6cb5-473b-8058-fd647b80d875",
   "metadata": {},
   "outputs": [],
   "source": [
    "df_concat= pd.concat([df_bangalore, df_chennai, df_kolkata, df_hyderabad, df_delhi,df_jaipur],axis = 0)\n",
    "df_concat.to_excel('all_cities_cars.xlsx', index=False)"
   ]
  },
  {
   "cell_type": "markdown",
   "id": "2db7dd8a-e15f-4fa9-96d9-cd08e5a7fe74",
   "metadata": {},
   "source": [
    "### Reading merged file"
   ]
  },
  {
   "cell_type": "code",
   "execution_count": 3,
   "id": "0d2d7aac-5ee9-45e4-85b3-87d78bd4fb57",
   "metadata": {},
   "outputs": [
    {
     "data": {
      "text/plain": [
       "(8369, 6)"
      ]
     },
     "execution_count": 3,
     "metadata": {},
     "output_type": "execute_result"
    }
   ],
   "source": [
    "df = pd.read_excel(\"all_cities_cars.xlsx\")\n",
    "df.shape"
   ]
  },
  {
   "cell_type": "code",
   "execution_count": 4,
   "id": "bbe71c40-5971-44b7-b35e-9d0a8ac3e792",
   "metadata": {},
   "outputs": [
    {
     "data": {
      "text/html": [
       "<div>\n",
       "<style scoped>\n",
       "    .dataframe tbody tr th:only-of-type {\n",
       "        vertical-align: middle;\n",
       "    }\n",
       "\n",
       "    .dataframe tbody tr th {\n",
       "        vertical-align: top;\n",
       "    }\n",
       "\n",
       "    .dataframe thead th {\n",
       "        text-align: right;\n",
       "    }\n",
       "</style>\n",
       "<table border=\"1\" class=\"dataframe\">\n",
       "  <thead>\n",
       "    <tr style=\"text-align: right;\">\n",
       "      <th></th>\n",
       "      <th>new_car_detail</th>\n",
       "      <th>new_car_overview</th>\n",
       "      <th>new_car_feature</th>\n",
       "      <th>new_car_specs</th>\n",
       "      <th>car_links</th>\n",
       "      <th>Location</th>\n",
       "    </tr>\n",
       "  </thead>\n",
       "  <tbody>\n",
       "    <tr>\n",
       "      <th>0</th>\n",
       "      <td>{'it': 0, 'ft': 'Petrol', 'bt': 'Hatchback', '...</td>\n",
       "      <td>{'heading': 'Car overview', 'top': [{'key': 'R...</td>\n",
       "      <td>{'heading': 'Features', 'top': [{'value': 'Pow...</td>\n",
       "      <td>{'heading': 'Specifications', 'top': [{'key': ...</td>\n",
       "      <td>https://www.cardekho.com/used-car-details/used...</td>\n",
       "      <td>Bangalore</td>\n",
       "    </tr>\n",
       "  </tbody>\n",
       "</table>\n",
       "</div>"
      ],
      "text/plain": [
       "                                      new_car_detail  \\\n",
       "0  {'it': 0, 'ft': 'Petrol', 'bt': 'Hatchback', '...   \n",
       "\n",
       "                                    new_car_overview  \\\n",
       "0  {'heading': 'Car overview', 'top': [{'key': 'R...   \n",
       "\n",
       "                                     new_car_feature  \\\n",
       "0  {'heading': 'Features', 'top': [{'value': 'Pow...   \n",
       "\n",
       "                                       new_car_specs  \\\n",
       "0  {'heading': 'Specifications', 'top': [{'key': ...   \n",
       "\n",
       "                                           car_links   Location  \n",
       "0  https://www.cardekho.com/used-car-details/used...  Bangalore  "
      ]
     },
     "execution_count": 4,
     "metadata": {},
     "output_type": "execute_result"
    }
   ],
   "source": [
    "df.head(1)"
   ]
  },
  {
   "cell_type": "markdown",
   "id": "ac14151e-0359-4d9f-b550-f0d857aa5695",
   "metadata": {},
   "source": [
    "### Dropping car_links as we would not need that for our model"
   ]
  },
  {
   "cell_type": "code",
   "execution_count": 5,
   "id": "d8a5761e-109a-4448-83c6-cbbcdafa2b73",
   "metadata": {},
   "outputs": [],
   "source": [
    "df.drop('car_links',axis=1,inplace=True)"
   ]
  },
  {
   "cell_type": "markdown",
   "id": "74782041-4616-458d-92e4-acd99d23e1ee",
   "metadata": {},
   "source": [
    "## 2. Data Unpacking\n",
    "### Unpack the data as they are in dictionaries "
   ]
  },
  {
   "cell_type": "code",
   "execution_count": 6,
   "id": "a709e803-1aaf-4f02-ae4e-463954c2b9cc",
   "metadata": {},
   "outputs": [
    {
     "name": "stdout",
     "output_type": "stream",
     "text": [
      "<class 'str'>\n",
      "<class 'str'>\n",
      "<class 'str'>\n",
      "<class 'str'>\n"
     ]
    }
   ],
   "source": [
    "#Checking to see type of the values in column\n",
    "print(type(df['new_car_detail'].iloc[0]))\n",
    "print(type(df['new_car_overview'].iloc[0]))\n",
    "print(type(df['new_car_feature'].iloc[0]))\n",
    "print(type(df['new_car_specs'].iloc[0]))"
   ]
  },
  {
   "cell_type": "code",
   "execution_count": 7,
   "id": "4daa4294-b656-4f4f-a177-cdfc63a2f6cd",
   "metadata": {},
   "outputs": [],
   "source": [
    "#Converting the each column to a dict as it appears as a string \n",
    "df['new_car_detail'] = df['new_car_detail'].apply(ast.literal_eval)\n",
    "df['new_car_overview'] = df['new_car_overview'].apply(ast.literal_eval)\n",
    "df['new_car_feature'] = df['new_car_feature'].apply(ast.literal_eval)\n",
    "df['new_car_specs'] = df['new_car_specs'].apply(ast.literal_eval)"
   ]
  },
  {
   "cell_type": "code",
   "execution_count": 8,
   "id": "dc99bbd2-8f84-42e8-96a6-7e911d35ac78",
   "metadata": {},
   "outputs": [
    {
     "data": {
      "text/html": [
       "<div>\n",
       "<style scoped>\n",
       "    .dataframe tbody tr th:only-of-type {\n",
       "        vertical-align: middle;\n",
       "    }\n",
       "\n",
       "    .dataframe tbody tr th {\n",
       "        vertical-align: top;\n",
       "    }\n",
       "\n",
       "    .dataframe thead th {\n",
       "        text-align: right;\n",
       "    }\n",
       "</style>\n",
       "<table border=\"1\" class=\"dataframe\">\n",
       "  <thead>\n",
       "    <tr style=\"text-align: right;\">\n",
       "      <th></th>\n",
       "      <th>it</th>\n",
       "      <th>ft</th>\n",
       "      <th>bt</th>\n",
       "      <th>km</th>\n",
       "      <th>transmission</th>\n",
       "      <th>ownerNo</th>\n",
       "      <th>owner</th>\n",
       "      <th>oem</th>\n",
       "      <th>model</th>\n",
       "      <th>modelYear</th>\n",
       "      <th>centralVariantId</th>\n",
       "      <th>variantName</th>\n",
       "      <th>price</th>\n",
       "      <th>priceActual</th>\n",
       "      <th>priceSaving</th>\n",
       "      <th>priceFixedText</th>\n",
       "      <th>trendingText.imgUrl</th>\n",
       "      <th>trendingText.heading</th>\n",
       "      <th>trendingText.desc</th>\n",
       "    </tr>\n",
       "  </thead>\n",
       "  <tbody>\n",
       "    <tr>\n",
       "      <th>0</th>\n",
       "      <td>0</td>\n",
       "      <td>Petrol</td>\n",
       "      <td>Hatchback</td>\n",
       "      <td>1,20,000</td>\n",
       "      <td>Manual</td>\n",
       "      <td>3</td>\n",
       "      <td>3rd Owner</td>\n",
       "      <td>Maruti</td>\n",
       "      <td>Maruti Celerio</td>\n",
       "      <td>2015</td>\n",
       "      <td>3979</td>\n",
       "      <td>VXI</td>\n",
       "      <td>₹ 4 Lakh</td>\n",
       "      <td></td>\n",
       "      <td></td>\n",
       "      <td>None</td>\n",
       "      <td>https://stimg.cardekho.com/used-cars/common/ic...</td>\n",
       "      <td>Trending Car!</td>\n",
       "      <td>High chances of sale in next 6 days</td>\n",
       "    </tr>\n",
       "  </tbody>\n",
       "</table>\n",
       "</div>"
      ],
      "text/plain": [
       "   it      ft         bt        km transmission  ownerNo      owner     oem  \\\n",
       "0   0  Petrol  Hatchback  1,20,000       Manual        3  3rd Owner  Maruti   \n",
       "\n",
       "            model  modelYear  centralVariantId variantName     price  \\\n",
       "0  Maruti Celerio       2015              3979         VXI  ₹ 4 Lakh   \n",
       "\n",
       "  priceActual priceSaving priceFixedText  \\\n",
       "0                                   None   \n",
       "\n",
       "                                 trendingText.imgUrl trendingText.heading  \\\n",
       "0  https://stimg.cardekho.com/used-cars/common/ic...        Trending Car!   \n",
       "\n",
       "                     trendingText.desc  \n",
       "0  High chances of sale in next 6 days  "
      ]
     },
     "execution_count": 8,
     "metadata": {},
     "output_type": "execute_result"
    }
   ],
   "source": [
    "# Unpacking the dictionary column new_car_detail\n",
    "expanded_details = pd.json_normalize(df['new_car_detail'])\n",
    "expanded_details.head(1)"
   ]
  },
  {
   "cell_type": "code",
   "execution_count": 9,
   "id": "45f471b1-1c50-42ba-8864-53ba75ba8103",
   "metadata": {},
   "outputs": [
    {
     "data": {
      "text/html": [
       "<div>\n",
       "<style scoped>\n",
       "    .dataframe tbody tr th:only-of-type {\n",
       "        vertical-align: middle;\n",
       "    }\n",
       "\n",
       "    .dataframe tbody tr th {\n",
       "        vertical-align: top;\n",
       "    }\n",
       "\n",
       "    .dataframe thead th {\n",
       "        text-align: right;\n",
       "    }\n",
       "</style>\n",
       "<table border=\"1\" class=\"dataframe\">\n",
       "  <thead>\n",
       "    <tr style=\"text-align: right;\">\n",
       "      <th></th>\n",
       "      <th>Registration Year</th>\n",
       "      <th>Insurance Validity</th>\n",
       "      <th>Fuel Type</th>\n",
       "      <th>Seats</th>\n",
       "      <th>Kms Driven</th>\n",
       "      <th>RTO</th>\n",
       "      <th>Ownership</th>\n",
       "      <th>Engine Displacement</th>\n",
       "      <th>Transmission</th>\n",
       "      <th>Year of Manufacture</th>\n",
       "    </tr>\n",
       "  </thead>\n",
       "  <tbody>\n",
       "    <tr>\n",
       "      <th>0</th>\n",
       "      <td>2015</td>\n",
       "      <td>Third Party insurance</td>\n",
       "      <td>Petrol</td>\n",
       "      <td>5 Seats</td>\n",
       "      <td>1,20,000 Kms</td>\n",
       "      <td>KA51</td>\n",
       "      <td>Third Owner</td>\n",
       "      <td>998 cc</td>\n",
       "      <td>Manual</td>\n",
       "      <td>2015.0</td>\n",
       "    </tr>\n",
       "  </tbody>\n",
       "</table>\n",
       "</div>"
      ],
      "text/plain": [
       "  Registration Year     Insurance Validity Fuel Type    Seats    Kms Driven  \\\n",
       "0              2015  Third Party insurance    Petrol  5 Seats  1,20,000 Kms   \n",
       "\n",
       "    RTO    Ownership Engine Displacement Transmission  Year of Manufacture  \n",
       "0  KA51  Third Owner              998 cc       Manual               2015.0  "
      ]
     },
     "execution_count": 9,
     "metadata": {},
     "output_type": "execute_result"
    }
   ],
   "source": [
    "# Unpacking the dictionary column new_car_overview\t\n",
    "def process_row(row):\n",
    "    top_data = {item['key']: item['value'] for item in row['top']}\n",
    "    return top_data\n",
    "\n",
    "expanded_overview = df['new_car_overview'].apply(lambda row: pd.Series(process_row(row)))\n",
    "\n",
    "expanded_overview.head(1)"
   ]
  },
  {
   "cell_type": "code",
   "execution_count": 10,
   "id": "e245d898-ebcc-463c-aeeb-ab94d1096a77",
   "metadata": {},
   "outputs": [
    {
     "data": {
      "text/html": [
       "<div>\n",
       "<style scoped>\n",
       "    .dataframe tbody tr th:only-of-type {\n",
       "        vertical-align: middle;\n",
       "    }\n",
       "\n",
       "    .dataframe tbody tr th {\n",
       "        vertical-align: top;\n",
       "    }\n",
       "\n",
       "    .dataframe thead th {\n",
       "        text-align: right;\n",
       "    }\n",
       "</style>\n",
       "<table border=\"1\" class=\"dataframe\">\n",
       "  <thead>\n",
       "    <tr style=\"text-align: right;\">\n",
       "      <th></th>\n",
       "      <th>Power Steering</th>\n",
       "      <th>Power Windows Front</th>\n",
       "      <th>Air Conditioner</th>\n",
       "      <th>Heater</th>\n",
       "      <th>Adjustable Head Lights</th>\n",
       "      <th>Manually Adjustable Exterior Rear View Mirror</th>\n",
       "      <th>Centeral Locking</th>\n",
       "      <th>Child Safety Locks</th>\n",
       "      <th>Power Windows Rear</th>\n",
       "      <th>Remote Trunk Opener</th>\n",
       "      <th>...</th>\n",
       "      <th>Cassette Player</th>\n",
       "      <th>Find My Car Location</th>\n",
       "      <th>Wifi Connectivity</th>\n",
       "      <th>Headlamp Washers</th>\n",
       "      <th>Real Time Vehicle Tracking</th>\n",
       "      <th>Roof Carrier</th>\n",
       "      <th>Smart Key Band</th>\n",
       "      <th>Lane Watch Camera</th>\n",
       "      <th>Removable Convertible Top</th>\n",
       "      <th>Power Folding3rd Row Seat</th>\n",
       "    </tr>\n",
       "  </thead>\n",
       "  <tbody>\n",
       "    <tr>\n",
       "      <th>0</th>\n",
       "      <td>True</td>\n",
       "      <td>True</td>\n",
       "      <td>True</td>\n",
       "      <td>True</td>\n",
       "      <td>True</td>\n",
       "      <td>True</td>\n",
       "      <td>True</td>\n",
       "      <td>True</td>\n",
       "      <td>True</td>\n",
       "      <td>True</td>\n",
       "      <td>...</td>\n",
       "      <td>NaN</td>\n",
       "      <td>NaN</td>\n",
       "      <td>NaN</td>\n",
       "      <td>NaN</td>\n",
       "      <td>NaN</td>\n",
       "      <td>NaN</td>\n",
       "      <td>NaN</td>\n",
       "      <td>NaN</td>\n",
       "      <td>NaN</td>\n",
       "      <td>NaN</td>\n",
       "    </tr>\n",
       "  </tbody>\n",
       "</table>\n",
       "<p>1 rows × 173 columns</p>\n",
       "</div>"
      ],
      "text/plain": [
       "  Power Steering Power Windows Front Air Conditioner Heater  \\\n",
       "0           True                True            True   True   \n",
       "\n",
       "  Adjustable Head Lights Manually Adjustable Exterior Rear View Mirror  \\\n",
       "0                   True                                          True   \n",
       "\n",
       "  Centeral Locking Child Safety Locks Power Windows Rear Remote Trunk Opener  \\\n",
       "0             True               True               True                True   \n",
       "\n",
       "   ... Cassette Player Find My Car Location Wifi Connectivity  \\\n",
       "0  ...             NaN                  NaN               NaN   \n",
       "\n",
       "  Headlamp Washers Real Time Vehicle Tracking Roof Carrier Smart Key Band  \\\n",
       "0              NaN                        NaN          NaN            NaN   \n",
       "\n",
       "  Lane Watch Camera Removable Convertible Top Power Folding3rd Row Seat  \n",
       "0               NaN                       NaN                       NaN  \n",
       "\n",
       "[1 rows x 173 columns]"
      ]
     },
     "execution_count": 10,
     "metadata": {},
     "output_type": "execute_result"
    }
   ],
   "source": [
    "# Unpacking the dictionary column new_car_features\n",
    "\n",
    "def process_features(row):\n",
    "    features = {}\n",
    "\n",
    "    # Flatten 'top' values\n",
    "    for item in row['top']:\n",
    "        features[item['value']] = True\n",
    "    \n",
    "    # Flatten 'data' values\n",
    "    for data_item in row.get('data', []):\n",
    "        for sub_item in data_item.get('list', []):\n",
    "            features[sub_item['value']] = True\n",
    "    \n",
    "    return features\n",
    "\n",
    "expanded_features = df['new_car_feature'].apply(lambda row: pd.Series(process_features(row)))\n",
    "\n",
    "expanded_features.head(1)"
   ]
  },
  {
   "cell_type": "code",
   "execution_count": 11,
   "id": "14859eee-c74e-4b50-8b9d-6ab42a912b6e",
   "metadata": {},
   "outputs": [
    {
     "data": {
      "text/html": [
       "<div>\n",
       "<style scoped>\n",
       "    .dataframe tbody tr th:only-of-type {\n",
       "        vertical-align: middle;\n",
       "    }\n",
       "\n",
       "    .dataframe tbody tr th {\n",
       "        vertical-align: top;\n",
       "    }\n",
       "\n",
       "    .dataframe thead th {\n",
       "        text-align: right;\n",
       "    }\n",
       "</style>\n",
       "<table border=\"1\" class=\"dataframe\">\n",
       "  <thead>\n",
       "    <tr style=\"text-align: right;\">\n",
       "      <th></th>\n",
       "      <th>Mileage</th>\n",
       "      <th>Engine</th>\n",
       "      <th>Max Power</th>\n",
       "      <th>Torque</th>\n",
       "      <th>Seats</th>\n",
       "      <th>Color</th>\n",
       "      <th>Engine Type</th>\n",
       "      <th>Displacement</th>\n",
       "      <th>Max Torque</th>\n",
       "      <th>No of Cylinder</th>\n",
       "      <th>...</th>\n",
       "      <th>Front Brake Type</th>\n",
       "      <th>Rear Brake Type</th>\n",
       "      <th>Top Speed</th>\n",
       "      <th>Acceleration</th>\n",
       "      <th>Tyre Type</th>\n",
       "      <th>No Door Numbers</th>\n",
       "      <th>Cargo Volumn</th>\n",
       "      <th>Wheel Size</th>\n",
       "      <th>Alloy Wheel Size</th>\n",
       "      <th>Ground Clearance Unladen</th>\n",
       "    </tr>\n",
       "  </thead>\n",
       "  <tbody>\n",
       "    <tr>\n",
       "      <th>0</th>\n",
       "      <td>23.1 kmpl</td>\n",
       "      <td>998 CC</td>\n",
       "      <td>67.04bhp@6000rpm</td>\n",
       "      <td>90Nm</td>\n",
       "      <td>5</td>\n",
       "      <td>White</td>\n",
       "      <td>K10B Engine</td>\n",
       "      <td>998</td>\n",
       "      <td>90Nm@3500rpm</td>\n",
       "      <td>3.0</td>\n",
       "      <td>...</td>\n",
       "      <td>Ventilated Disc</td>\n",
       "      <td>Drum</td>\n",
       "      <td>150 Kmph</td>\n",
       "      <td>15.05 Seconds</td>\n",
       "      <td>Tubeless, Radial</td>\n",
       "      <td>5</td>\n",
       "      <td>235-litres</td>\n",
       "      <td>NaN</td>\n",
       "      <td>NaN</td>\n",
       "      <td>NaN</td>\n",
       "    </tr>\n",
       "  </tbody>\n",
       "</table>\n",
       "<p>1 rows × 40 columns</p>\n",
       "</div>"
      ],
      "text/plain": [
       "     Mileage  Engine         Max Power Torque Seats  Color  Engine Type  \\\n",
       "0  23.1 kmpl  998 CC  67.04bhp@6000rpm   90Nm     5  White  K10B Engine   \n",
       "\n",
       "  Displacement    Max Torque  No of Cylinder  ...  Front Brake Type  \\\n",
       "0          998  90Nm@3500rpm             3.0  ...   Ventilated Disc   \n",
       "\n",
       "  Rear Brake Type Top Speed   Acceleration         Tyre Type No Door Numbers  \\\n",
       "0            Drum  150 Kmph  15.05 Seconds  Tubeless, Radial               5   \n",
       "\n",
       "  Cargo Volumn Wheel Size Alloy Wheel Size Ground Clearance Unladen  \n",
       "0   235-litres        NaN              NaN                      NaN  \n",
       "\n",
       "[1 rows x 40 columns]"
      ]
     },
     "execution_count": 11,
     "metadata": {},
     "output_type": "execute_result"
    }
   ],
   "source": [
    "# Unpacking the dictionary column new_car_specs\n",
    "\n",
    "def process_specifications(row):\n",
    "    specs = {}\n",
    "\n",
    "    # Flatten 'top' values\n",
    "    for item in row['top']:\n",
    "        specs[item['key']] = item['value']\n",
    "    \n",
    "    # Flatten 'data' values\n",
    "    for data_item in row.get('data', []):\n",
    "        for sub_item in data_item.get('list', []):\n",
    "            specs[sub_item['key']] = sub_item['value']\n",
    "    \n",
    "    return specs\n",
    "\n",
    "expanded_specs = df['new_car_specs'].apply(lambda row: pd.Series(process_specifications(row)))\n",
    "\n",
    "expanded_specs.head(1)\n"
   ]
  },
  {
   "cell_type": "code",
   "execution_count": 12,
   "id": "ab576342-351a-4cad-af6d-322e00400378",
   "metadata": {},
   "outputs": [],
   "source": [
    "### Merge all these unpacked data columns and save it for easy fetch and process\n",
    "\n",
    "df_expanded=pd.concat([expanded_details,expanded_overview,expanded_features,expanded_specs,df['Location']],axis=1)\n",
    "\n",
    "df_expanded.to_excel('all_cities_cars_expanded.xlsx', index=False)\n"
   ]
  },
  {
   "cell_type": "markdown",
   "id": "8a51057c-043e-4699-bd9e-4dbd3cb61a72",
   "metadata": {},
   "source": [
    "## 3. Data Processing"
   ]
  },
  {
   "cell_type": "code",
   "execution_count": 13,
   "id": "056342bf-6034-475b-93ae-673c6be04d00",
   "metadata": {},
   "outputs": [
    {
     "data": {
      "text/html": [
       "<div>\n",
       "<style scoped>\n",
       "    .dataframe tbody tr th:only-of-type {\n",
       "        vertical-align: middle;\n",
       "    }\n",
       "\n",
       "    .dataframe tbody tr th {\n",
       "        vertical-align: top;\n",
       "    }\n",
       "\n",
       "    .dataframe thead th {\n",
       "        text-align: right;\n",
       "    }\n",
       "</style>\n",
       "<table border=\"1\" class=\"dataframe\">\n",
       "  <thead>\n",
       "    <tr style=\"text-align: right;\">\n",
       "      <th></th>\n",
       "      <th>it</th>\n",
       "      <th>ft</th>\n",
       "      <th>bt</th>\n",
       "      <th>km</th>\n",
       "      <th>transmission</th>\n",
       "      <th>ownerNo</th>\n",
       "      <th>owner</th>\n",
       "      <th>oem</th>\n",
       "      <th>model</th>\n",
       "      <th>modelYear</th>\n",
       "      <th>...</th>\n",
       "      <th>Rear Brake Type</th>\n",
       "      <th>Top Speed</th>\n",
       "      <th>Acceleration</th>\n",
       "      <th>Tyre Type</th>\n",
       "      <th>No Door Numbers</th>\n",
       "      <th>Cargo Volumn</th>\n",
       "      <th>Wheel Size</th>\n",
       "      <th>Alloy Wheel Size</th>\n",
       "      <th>Ground Clearance Unladen</th>\n",
       "      <th>Location</th>\n",
       "    </tr>\n",
       "  </thead>\n",
       "  <tbody>\n",
       "    <tr>\n",
       "      <th>0</th>\n",
       "      <td>0</td>\n",
       "      <td>Petrol</td>\n",
       "      <td>Hatchback</td>\n",
       "      <td>1,20,000</td>\n",
       "      <td>Manual</td>\n",
       "      <td>3</td>\n",
       "      <td>3rd Owner</td>\n",
       "      <td>Maruti</td>\n",
       "      <td>Maruti Celerio</td>\n",
       "      <td>2015</td>\n",
       "      <td>...</td>\n",
       "      <td>Drum</td>\n",
       "      <td>150 Kmph</td>\n",
       "      <td>15.05 Seconds</td>\n",
       "      <td>Tubeless, Radial</td>\n",
       "      <td>5.0</td>\n",
       "      <td>235-litres</td>\n",
       "      <td>NaN</td>\n",
       "      <td>NaN</td>\n",
       "      <td>NaN</td>\n",
       "      <td>Bangalore</td>\n",
       "    </tr>\n",
       "  </tbody>\n",
       "</table>\n",
       "<p>1 rows × 243 columns</p>\n",
       "</div>"
      ],
      "text/plain": [
       "   it      ft         bt        km transmission  ownerNo      owner     oem  \\\n",
       "0   0  Petrol  Hatchback  1,20,000       Manual        3  3rd Owner  Maruti   \n",
       "\n",
       "            model  modelYear  ...  Rear Brake Type Top Speed   Acceleration  \\\n",
       "0  Maruti Celerio       2015  ...             Drum  150 Kmph  15.05 Seconds   \n",
       "\n",
       "          Tyre Type  No Door Numbers  Cargo Volumn Wheel Size  \\\n",
       "0  Tubeless, Radial              5.0    235-litres        NaN   \n",
       "\n",
       "  Alloy Wheel Size Ground Clearance Unladen   Location  \n",
       "0              NaN                      NaN  Bangalore  \n",
       "\n",
       "[1 rows x 243 columns]"
      ]
     },
     "execution_count": 13,
     "metadata": {},
     "output_type": "execute_result"
    }
   ],
   "source": [
    "df_cars= pd.read_excel(\"all_cities_cars_expanded.xlsx\")\n",
    "df_cars.head(1)"
   ]
  },
  {
   "cell_type": "code",
   "execution_count": 14,
   "id": "af1d8db6-6b64-46c1-85bf-d272901c28c1",
   "metadata": {},
   "outputs": [
    {
     "data": {
      "text/plain": [
       "it                             0\n",
       "ft                             0\n",
       "bt                             4\n",
       "km                             0\n",
       "transmission                   0\n",
       "                            ... \n",
       "Cargo Volumn                1593\n",
       "Wheel Size                  2983\n",
       "Alloy Wheel Size            2983\n",
       "Ground Clearance Unladen    7854\n",
       "Location                       0\n",
       "Length: 243, dtype: int64"
      ]
     },
     "execution_count": 14,
     "metadata": {},
     "output_type": "execute_result"
    }
   ],
   "source": [
    "df_cars.isna().sum()"
   ]
  },
  {
   "cell_type": "code",
   "execution_count": 15,
   "id": "0f7d65ce-cc7e-4c65-99cc-c47612fbcc2b",
   "metadata": {},
   "outputs": [
    {
     "data": {
      "text/html": [
       "<div>\n",
       "<style scoped>\n",
       "    .dataframe tbody tr th:only-of-type {\n",
       "        vertical-align: middle;\n",
       "    }\n",
       "\n",
       "    .dataframe tbody tr th {\n",
       "        vertical-align: top;\n",
       "    }\n",
       "\n",
       "    .dataframe thead th {\n",
       "        text-align: right;\n",
       "    }\n",
       "</style>\n",
       "<table border=\"1\" class=\"dataframe\">\n",
       "  <thead>\n",
       "    <tr style=\"text-align: right;\">\n",
       "      <th></th>\n",
       "      <th>it</th>\n",
       "      <th>ft</th>\n",
       "      <th>bt</th>\n",
       "      <th>km</th>\n",
       "      <th>transmission</th>\n",
       "      <th>ownerNo</th>\n",
       "      <th>owner</th>\n",
       "      <th>oem</th>\n",
       "      <th>model</th>\n",
       "      <th>modelYear</th>\n",
       "      <th>...</th>\n",
       "      <th>Front Brake Type</th>\n",
       "      <th>Rear Brake Type</th>\n",
       "      <th>Top Speed</th>\n",
       "      <th>Acceleration</th>\n",
       "      <th>Tyre Type</th>\n",
       "      <th>No Door Numbers</th>\n",
       "      <th>Cargo Volumn</th>\n",
       "      <th>Wheel Size</th>\n",
       "      <th>Alloy Wheel Size</th>\n",
       "      <th>Location</th>\n",
       "    </tr>\n",
       "  </thead>\n",
       "  <tbody>\n",
       "    <tr>\n",
       "      <th>0</th>\n",
       "      <td>0</td>\n",
       "      <td>Petrol</td>\n",
       "      <td>Hatchback</td>\n",
       "      <td>1,20,000</td>\n",
       "      <td>Manual</td>\n",
       "      <td>3</td>\n",
       "      <td>3rd Owner</td>\n",
       "      <td>Maruti</td>\n",
       "      <td>Maruti Celerio</td>\n",
       "      <td>2015</td>\n",
       "      <td>...</td>\n",
       "      <td>Ventilated Disc</td>\n",
       "      <td>Drum</td>\n",
       "      <td>150 Kmph</td>\n",
       "      <td>15.05 Seconds</td>\n",
       "      <td>Tubeless, Radial</td>\n",
       "      <td>5.0</td>\n",
       "      <td>235-litres</td>\n",
       "      <td>NaN</td>\n",
       "      <td>NaN</td>\n",
       "      <td>Bangalore</td>\n",
       "    </tr>\n",
       "  </tbody>\n",
       "</table>\n",
       "<p>1 rows × 122 columns</p>\n",
       "</div>"
      ],
      "text/plain": [
       "   it      ft         bt        km transmission  ownerNo      owner     oem  \\\n",
       "0   0  Petrol  Hatchback  1,20,000       Manual        3  3rd Owner  Maruti   \n",
       "\n",
       "            model  modelYear  ...  Front Brake Type Rear Brake Type Top Speed  \\\n",
       "0  Maruti Celerio       2015  ...   Ventilated Disc            Drum  150 Kmph   \n",
       "\n",
       "    Acceleration         Tyre Type No Door Numbers Cargo Volumn Wheel Size  \\\n",
       "0  15.05 Seconds  Tubeless, Radial             5.0   235-litres        NaN   \n",
       "\n",
       "  Alloy Wheel Size   Location  \n",
       "0              NaN  Bangalore  \n",
       "\n",
       "[1 rows x 122 columns]"
      ]
     },
     "execution_count": 15,
     "metadata": {},
     "output_type": "execute_result"
    }
   ],
   "source": [
    "# Dropping all columns with more than 50% missing values\n",
    "\n",
    "threshold = len(df_cars) * 0.5\n",
    "df_cars.dropna(axis=1, thresh=threshold,inplace=True)\n",
    "\n",
    "df_cars.head(1)"
   ]
  },
  {
   "cell_type": "code",
   "execution_count": 16,
   "id": "9c93597d-8a1a-4146-8f60-a9df13f95fb0",
   "metadata": {},
   "outputs": [
    {
     "data": {
      "text/plain": [
       "it                     1\n",
       "ft                     5\n",
       "bt                    10\n",
       "km                  4090\n",
       "transmission           2\n",
       "                    ... \n",
       "No Door Numbers        5\n",
       "Cargo Volumn         321\n",
       "Wheel Size            17\n",
       "Alloy Wheel Size      17\n",
       "Location               6\n",
       "Length: 122, dtype: int64"
      ]
     },
     "execution_count": 16,
     "metadata": {},
     "output_type": "execute_result"
    }
   ],
   "source": [
    "df_cars.nunique()"
   ]
  },
  {
   "cell_type": "code",
   "execution_count": 17,
   "id": "32bba313-9cc4-4403-9dc2-c68ad56d86a6",
   "metadata": {},
   "outputs": [
    {
     "data": {
      "text/html": [
       "<div>\n",
       "<style scoped>\n",
       "    .dataframe tbody tr th:only-of-type {\n",
       "        vertical-align: middle;\n",
       "    }\n",
       "\n",
       "    .dataframe tbody tr th {\n",
       "        vertical-align: top;\n",
       "    }\n",
       "\n",
       "    .dataframe thead th {\n",
       "        text-align: right;\n",
       "    }\n",
       "</style>\n",
       "<table border=\"1\" class=\"dataframe\">\n",
       "  <thead>\n",
       "    <tr style=\"text-align: right;\">\n",
       "      <th></th>\n",
       "      <th>ft</th>\n",
       "      <th>bt</th>\n",
       "      <th>km</th>\n",
       "      <th>transmission</th>\n",
       "      <th>ownerNo</th>\n",
       "      <th>owner</th>\n",
       "      <th>oem</th>\n",
       "      <th>model</th>\n",
       "      <th>modelYear</th>\n",
       "      <th>centralVariantId</th>\n",
       "      <th>...</th>\n",
       "      <th>Front Brake Type</th>\n",
       "      <th>Rear Brake Type</th>\n",
       "      <th>Top Speed</th>\n",
       "      <th>Acceleration</th>\n",
       "      <th>Tyre Type</th>\n",
       "      <th>No Door Numbers</th>\n",
       "      <th>Cargo Volumn</th>\n",
       "      <th>Wheel Size</th>\n",
       "      <th>Alloy Wheel Size</th>\n",
       "      <th>Location</th>\n",
       "    </tr>\n",
       "  </thead>\n",
       "  <tbody>\n",
       "    <tr>\n",
       "      <th>0</th>\n",
       "      <td>Petrol</td>\n",
       "      <td>Hatchback</td>\n",
       "      <td>1,20,000</td>\n",
       "      <td>Manual</td>\n",
       "      <td>3</td>\n",
       "      <td>3rd Owner</td>\n",
       "      <td>Maruti</td>\n",
       "      <td>Maruti Celerio</td>\n",
       "      <td>2015</td>\n",
       "      <td>3979</td>\n",
       "      <td>...</td>\n",
       "      <td>Ventilated Disc</td>\n",
       "      <td>Drum</td>\n",
       "      <td>150 Kmph</td>\n",
       "      <td>15.05 Seconds</td>\n",
       "      <td>Tubeless, Radial</td>\n",
       "      <td>5.0</td>\n",
       "      <td>235-litres</td>\n",
       "      <td>NaN</td>\n",
       "      <td>NaN</td>\n",
       "      <td>Bangalore</td>\n",
       "    </tr>\n",
       "  </tbody>\n",
       "</table>\n",
       "<p>1 rows × 59 columns</p>\n",
       "</div>"
      ],
      "text/plain": [
       "       ft         bt        km transmission  ownerNo      owner     oem  \\\n",
       "0  Petrol  Hatchback  1,20,000       Manual        3  3rd Owner  Maruti   \n",
       "\n",
       "            model  modelYear  centralVariantId  ... Front Brake Type  \\\n",
       "0  Maruti Celerio       2015              3979  ...  Ventilated Disc   \n",
       "\n",
       "  Rear Brake Type Top Speed   Acceleration         Tyre Type No Door Numbers  \\\n",
       "0            Drum  150 Kmph  15.05 Seconds  Tubeless, Radial             5.0   \n",
       "\n",
       "  Cargo Volumn Wheel Size Alloy Wheel Size   Location  \n",
       "0   235-litres        NaN              NaN  Bangalore  \n",
       "\n",
       "[1 rows x 59 columns]"
      ]
     },
     "execution_count": 17,
     "metadata": {},
     "output_type": "execute_result"
    }
   ],
   "source": [
    "# Dropping all columns with only one unique value\n",
    "df_cars = df_cars.loc[:, df_cars.nunique() > 1]\n",
    "df_cars.head(1)"
   ]
  },
  {
   "cell_type": "code",
   "execution_count": 18,
   "id": "67ba498a-3730-4f11-b931-8265ee964ae8",
   "metadata": {},
   "outputs": [
    {
     "data": {
      "text/html": [
       "<div>\n",
       "<style scoped>\n",
       "    .dataframe tbody tr th:only-of-type {\n",
       "        vertical-align: middle;\n",
       "    }\n",
       "\n",
       "    .dataframe tbody tr th {\n",
       "        vertical-align: top;\n",
       "    }\n",
       "\n",
       "    .dataframe thead th {\n",
       "        text-align: right;\n",
       "    }\n",
       "</style>\n",
       "<table border=\"1\" class=\"dataframe\">\n",
       "  <thead>\n",
       "    <tr style=\"text-align: right;\">\n",
       "      <th></th>\n",
       "      <th>ft</th>\n",
       "      <th>bt</th>\n",
       "      <th>km</th>\n",
       "      <th>transmission</th>\n",
       "      <th>ownerNo</th>\n",
       "      <th>owner</th>\n",
       "      <th>oem</th>\n",
       "      <th>model</th>\n",
       "      <th>modelYear</th>\n",
       "      <th>centralVariantId</th>\n",
       "      <th>variantName</th>\n",
       "      <th>price</th>\n",
       "      <th>Registration Year</th>\n",
       "      <th>Insurance Validity</th>\n",
       "      <th>Fuel Type</th>\n",
       "      <th>Seats</th>\n",
       "      <th>Kms Driven</th>\n",
       "      <th>RTO</th>\n",
       "      <th>Ownership</th>\n",
       "      <th>Engine Displacement</th>\n",
       "      <th>Transmission</th>\n",
       "      <th>Year of Manufacture</th>\n",
       "      <th>Mileage</th>\n",
       "      <th>Engine</th>\n",
       "      <th>Max Power</th>\n",
       "      <th>Torque</th>\n",
       "      <th>Seats.1</th>\n",
       "      <th>Color</th>\n",
       "      <th>Engine Type</th>\n",
       "      <th>Displacement</th>\n",
       "      <th>Max Torque</th>\n",
       "      <th>No of Cylinder</th>\n",
       "      <th>Values per Cylinder</th>\n",
       "      <th>Value Configuration</th>\n",
       "      <th>Fuel Suppy System</th>\n",
       "      <th>Turbo Charger</th>\n",
       "      <th>Super Charger</th>\n",
       "      <th>Length</th>\n",
       "      <th>Width</th>\n",
       "      <th>Height</th>\n",
       "      <th>Wheel Base</th>\n",
       "      <th>Front Tread</th>\n",
       "      <th>Rear Tread</th>\n",
       "      <th>Kerb Weight</th>\n",
       "      <th>Gear Box</th>\n",
       "      <th>Drive Type</th>\n",
       "      <th>Seating Capacity</th>\n",
       "      <th>Steering Type</th>\n",
       "      <th>Turning Radius</th>\n",
       "      <th>Front Brake Type</th>\n",
       "      <th>Rear Brake Type</th>\n",
       "      <th>Top Speed</th>\n",
       "      <th>Acceleration</th>\n",
       "      <th>Tyre Type</th>\n",
       "      <th>No Door Numbers</th>\n",
       "      <th>Cargo Volumn</th>\n",
       "      <th>Wheel Size</th>\n",
       "      <th>Alloy Wheel Size</th>\n",
       "      <th>Location</th>\n",
       "    </tr>\n",
       "  </thead>\n",
       "  <tbody>\n",
       "    <tr>\n",
       "      <th>0</th>\n",
       "      <td>Petrol</td>\n",
       "      <td>Hatchback</td>\n",
       "      <td>1,20,000</td>\n",
       "      <td>Manual</td>\n",
       "      <td>3</td>\n",
       "      <td>3rd Owner</td>\n",
       "      <td>Maruti</td>\n",
       "      <td>Maruti Celerio</td>\n",
       "      <td>2015</td>\n",
       "      <td>3979</td>\n",
       "      <td>VXI</td>\n",
       "      <td>₹ 4 Lakh</td>\n",
       "      <td>2015</td>\n",
       "      <td>Third Party insurance</td>\n",
       "      <td>Petrol</td>\n",
       "      <td>5 Seats</td>\n",
       "      <td>1,20,000 Kms</td>\n",
       "      <td>KA51</td>\n",
       "      <td>Third Owner</td>\n",
       "      <td>998 cc</td>\n",
       "      <td>Manual</td>\n",
       "      <td>2015.0</td>\n",
       "      <td>23.1 kmpl</td>\n",
       "      <td>998 CC</td>\n",
       "      <td>67.04bhp@6000rpm</td>\n",
       "      <td>90Nm</td>\n",
       "      <td>5.0</td>\n",
       "      <td>White</td>\n",
       "      <td>K10B Engine</td>\n",
       "      <td>998.0</td>\n",
       "      <td>90Nm@3500rpm</td>\n",
       "      <td>3.0</td>\n",
       "      <td>4.0</td>\n",
       "      <td>DOHC</td>\n",
       "      <td>MPFi</td>\n",
       "      <td>No</td>\n",
       "      <td>No</td>\n",
       "      <td>3715mm</td>\n",
       "      <td>1635mm</td>\n",
       "      <td>1565mm</td>\n",
       "      <td>2425mm</td>\n",
       "      <td>1420mm</td>\n",
       "      <td>1410mm</td>\n",
       "      <td>835kg</td>\n",
       "      <td>5 Speed</td>\n",
       "      <td>FWD</td>\n",
       "      <td>5.0</td>\n",
       "      <td>Power</td>\n",
       "      <td>4.7 metres</td>\n",
       "      <td>Ventilated Disc</td>\n",
       "      <td>Drum</td>\n",
       "      <td>150 Kmph</td>\n",
       "      <td>15.05 Seconds</td>\n",
       "      <td>Tubeless, Radial</td>\n",
       "      <td>5.0</td>\n",
       "      <td>235-litres</td>\n",
       "      <td>NaN</td>\n",
       "      <td>NaN</td>\n",
       "      <td>Bangalore</td>\n",
       "    </tr>\n",
       "  </tbody>\n",
       "</table>\n",
       "</div>"
      ],
      "text/plain": [
       "       ft         bt        km transmission  ownerNo      owner     oem  \\\n",
       "0  Petrol  Hatchback  1,20,000       Manual        3  3rd Owner  Maruti   \n",
       "\n",
       "            model  modelYear  centralVariantId variantName     price  \\\n",
       "0  Maruti Celerio       2015              3979         VXI  ₹ 4 Lakh   \n",
       "\n",
       "  Registration Year     Insurance Validity Fuel Type    Seats    Kms Driven  \\\n",
       "0              2015  Third Party insurance    Petrol  5 Seats  1,20,000 Kms   \n",
       "\n",
       "    RTO    Ownership Engine Displacement Transmission  Year of Manufacture  \\\n",
       "0  KA51  Third Owner              998 cc       Manual               2015.0   \n",
       "\n",
       "     Mileage  Engine         Max Power Torque  Seats.1  Color  Engine Type  \\\n",
       "0  23.1 kmpl  998 CC  67.04bhp@6000rpm   90Nm      5.0  White  K10B Engine   \n",
       "\n",
       "   Displacement    Max Torque  No of Cylinder  Values per Cylinder  \\\n",
       "0         998.0  90Nm@3500rpm             3.0                  4.0   \n",
       "\n",
       "  Value Configuration Fuel Suppy System Turbo Charger Super Charger  Length  \\\n",
       "0                DOHC              MPFi            No            No  3715mm   \n",
       "\n",
       "    Width  Height Wheel Base Front Tread Rear Tread Kerb Weight  Gear Box  \\\n",
       "0  1635mm  1565mm     2425mm      1420mm     1410mm       835kg  5 Speed    \n",
       "\n",
       "  Drive Type  Seating Capacity Steering Type Turning Radius Front Brake Type  \\\n",
       "0        FWD               5.0         Power     4.7 metres  Ventilated Disc   \n",
       "\n",
       "  Rear Brake Type Top Speed   Acceleration         Tyre Type  No Door Numbers  \\\n",
       "0            Drum  150 Kmph  15.05 Seconds  Tubeless, Radial              5.0   \n",
       "\n",
       "  Cargo Volumn Wheel Size Alloy Wheel Size   Location  \n",
       "0   235-litres        NaN              NaN  Bangalore  "
      ]
     },
     "execution_count": 18,
     "metadata": {},
     "output_type": "execute_result"
    }
   ],
   "source": [
    "# Expanding to see all columns fully\n",
    "pd.set_option('display.max_columns', None)\n",
    "df_cars.head(1)\n"
   ]
  },
  {
   "cell_type": "code",
   "execution_count": 19,
   "id": "bd7054d6-45d1-42f6-aa15-fc3a77a393ae",
   "metadata": {},
   "outputs": [
    {
     "data": {
      "text/plain": [
       "85"
      ]
     },
     "execution_count": 19,
     "metadata": {},
     "output_type": "execute_result"
    }
   ],
   "source": [
    "# Checking for duplicate rows\n",
    "df_cars.duplicated().sum()"
   ]
  },
  {
   "cell_type": "code",
   "execution_count": 20,
   "id": "79587c74-e657-45cb-8d41-5e717fe91c11",
   "metadata": {},
   "outputs": [
    {
     "data": {
      "text/plain": [
       "0"
      ]
     },
     "execution_count": 20,
     "metadata": {},
     "output_type": "execute_result"
    }
   ],
   "source": [
    "# Dropping duplicate rows\n",
    "\n",
    "df_cars.drop_duplicates(keep='first',inplace=True)\n",
    "df_cars.duplicated().sum()"
   ]
  },
  {
   "cell_type": "code",
   "execution_count": 21,
   "id": "90e1e58c-7f35-4b51-9683-71b07b068b67",
   "metadata": {},
   "outputs": [
    {
     "data": {
      "text/html": [
       "<div>\n",
       "<style scoped>\n",
       "    .dataframe tbody tr th:only-of-type {\n",
       "        vertical-align: middle;\n",
       "    }\n",
       "\n",
       "    .dataframe tbody tr th {\n",
       "        vertical-align: top;\n",
       "    }\n",
       "\n",
       "    .dataframe thead th {\n",
       "        text-align: right;\n",
       "    }\n",
       "</style>\n",
       "<table border=\"1\" class=\"dataframe\">\n",
       "  <thead>\n",
       "    <tr style=\"text-align: right;\">\n",
       "      <th></th>\n",
       "      <th>ft</th>\n",
       "      <th>bt</th>\n",
       "      <th>km</th>\n",
       "      <th>transmission</th>\n",
       "      <th>ownerNo</th>\n",
       "      <th>oem</th>\n",
       "      <th>model</th>\n",
       "      <th>modelYear</th>\n",
       "      <th>variantName</th>\n",
       "      <th>price</th>\n",
       "      <th>Insurance Validity</th>\n",
       "      <th>RTO</th>\n",
       "      <th>Mileage</th>\n",
       "      <th>Color</th>\n",
       "      <th>Engine Type</th>\n",
       "      <th>Displacement</th>\n",
       "      <th>No of Cylinder</th>\n",
       "      <th>Fuel Suppy System</th>\n",
       "      <th>Turbo Charger</th>\n",
       "      <th>Super Charger</th>\n",
       "      <th>Gear Box</th>\n",
       "      <th>Drive Type</th>\n",
       "      <th>Seating Capacity</th>\n",
       "      <th>Steering Type</th>\n",
       "      <th>Front Brake Type</th>\n",
       "      <th>Rear Brake Type</th>\n",
       "      <th>Tyre Type</th>\n",
       "      <th>No Door Numbers</th>\n",
       "      <th>Location</th>\n",
       "    </tr>\n",
       "  </thead>\n",
       "  <tbody>\n",
       "    <tr>\n",
       "      <th>0</th>\n",
       "      <td>Petrol</td>\n",
       "      <td>Hatchback</td>\n",
       "      <td>1,20,000</td>\n",
       "      <td>Manual</td>\n",
       "      <td>3</td>\n",
       "      <td>Maruti</td>\n",
       "      <td>Maruti Celerio</td>\n",
       "      <td>2015</td>\n",
       "      <td>VXI</td>\n",
       "      <td>₹ 4 Lakh</td>\n",
       "      <td>Third Party insurance</td>\n",
       "      <td>KA51</td>\n",
       "      <td>23.1 kmpl</td>\n",
       "      <td>White</td>\n",
       "      <td>K10B Engine</td>\n",
       "      <td>998.0</td>\n",
       "      <td>3.0</td>\n",
       "      <td>MPFi</td>\n",
       "      <td>No</td>\n",
       "      <td>No</td>\n",
       "      <td>5 Speed</td>\n",
       "      <td>FWD</td>\n",
       "      <td>5.0</td>\n",
       "      <td>Power</td>\n",
       "      <td>Ventilated Disc</td>\n",
       "      <td>Drum</td>\n",
       "      <td>Tubeless, Radial</td>\n",
       "      <td>5.0</td>\n",
       "      <td>Bangalore</td>\n",
       "    </tr>\n",
       "  </tbody>\n",
       "</table>\n",
       "</div>"
      ],
      "text/plain": [
       "       ft         bt        km transmission  ownerNo     oem           model  \\\n",
       "0  Petrol  Hatchback  1,20,000       Manual        3  Maruti  Maruti Celerio   \n",
       "\n",
       "   modelYear variantName     price     Insurance Validity   RTO    Mileage  \\\n",
       "0       2015         VXI  ₹ 4 Lakh  Third Party insurance  KA51  23.1 kmpl   \n",
       "\n",
       "   Color  Engine Type  Displacement  No of Cylinder Fuel Suppy System  \\\n",
       "0  White  K10B Engine         998.0             3.0              MPFi   \n",
       "\n",
       "  Turbo Charger Super Charger  Gear Box Drive Type  Seating Capacity  \\\n",
       "0            No            No  5 Speed         FWD               5.0   \n",
       "\n",
       "  Steering Type Front Brake Type Rear Brake Type         Tyre Type  \\\n",
       "0         Power  Ventilated Disc            Drum  Tubeless, Radial   \n",
       "\n",
       "   No Door Numbers   Location  \n",
       "0              5.0  Bangalore  "
      ]
     },
     "execution_count": 21,
     "metadata": {},
     "output_type": "execute_result"
    }
   ],
   "source": [
    "# Dropping columns that are duplicates or not required\n",
    "df_cars.drop(['owner','centralVariantId','Fuel Type','Registration Year','Year of Manufacture','Engine Displacement','Transmission','Max Power','Torque','Wheel Size','Seats.1','Engine','Torque','Length','Width','Height','Wheel Base','Front Tread','Rear Tread','Kerb Weight','Values per Cylinder','Value Configuration','Seats','Turning Radius','Top Speed','Acceleration','Alloy Wheel Size','Kms Driven','Ownership','Max Torque','Cargo Volumn'],axis=1,inplace=True)\n",
    "df_cars.head(1)"
   ]
  },
  {
   "cell_type": "code",
   "execution_count": 22,
   "id": "aa764ba9-fe2b-4b6e-906f-d993900c0dcb",
   "metadata": {},
   "outputs": [
    {
     "data": {
      "text/plain": [
       "ft                     object\n",
       "bt                     object\n",
       "km                     object\n",
       "transmission           object\n",
       "ownerNo                 int64\n",
       "oem                    object\n",
       "model                  object\n",
       "modelYear               int64\n",
       "variantName            object\n",
       "price                  object\n",
       "Insurance Validity     object\n",
       "RTO                    object\n",
       "Mileage                object\n",
       "Color                  object\n",
       "Engine Type            object\n",
       "Displacement          float64\n",
       "No of Cylinder        float64\n",
       "Fuel Suppy System      object\n",
       "Turbo Charger          object\n",
       "Super Charger          object\n",
       "Gear Box               object\n",
       "Drive Type             object\n",
       "Seating Capacity      float64\n",
       "Steering Type          object\n",
       "Front Brake Type       object\n",
       "Rear Brake Type        object\n",
       "Tyre Type              object\n",
       "No Door Numbers       float64\n",
       "Location               object\n",
       "dtype: object"
      ]
     },
     "execution_count": 22,
     "metadata": {},
     "output_type": "execute_result"
    }
   ],
   "source": [
    "# Handling string columns that are numerical\n",
    "\n",
    "df_cars.dtypes"
   ]
  },
  {
   "cell_type": "code",
   "execution_count": 23,
   "id": "5d1590d1-87bf-43b4-a0f6-4bbd0923397c",
   "metadata": {},
   "outputs": [
    {
     "data": {
      "text/html": [
       "<div>\n",
       "<style scoped>\n",
       "    .dataframe tbody tr th:only-of-type {\n",
       "        vertical-align: middle;\n",
       "    }\n",
       "\n",
       "    .dataframe tbody tr th {\n",
       "        vertical-align: top;\n",
       "    }\n",
       "\n",
       "    .dataframe thead th {\n",
       "        text-align: right;\n",
       "    }\n",
       "</style>\n",
       "<table border=\"1\" class=\"dataframe\">\n",
       "  <thead>\n",
       "    <tr style=\"text-align: right;\">\n",
       "      <th></th>\n",
       "      <th>ft</th>\n",
       "      <th>bt</th>\n",
       "      <th>km</th>\n",
       "      <th>transmission</th>\n",
       "      <th>ownerNo</th>\n",
       "      <th>oem</th>\n",
       "      <th>model</th>\n",
       "      <th>modelYear</th>\n",
       "      <th>variantName</th>\n",
       "      <th>price</th>\n",
       "      <th>Insurance Validity</th>\n",
       "      <th>RTO</th>\n",
       "      <th>Mileage</th>\n",
       "      <th>Color</th>\n",
       "      <th>Engine Type</th>\n",
       "      <th>Displacement</th>\n",
       "      <th>No of Cylinder</th>\n",
       "      <th>Fuel Suppy System</th>\n",
       "      <th>Turbo Charger</th>\n",
       "      <th>Super Charger</th>\n",
       "      <th>Gear Box</th>\n",
       "      <th>Drive Type</th>\n",
       "      <th>Seating Capacity</th>\n",
       "      <th>Steering Type</th>\n",
       "      <th>Front Brake Type</th>\n",
       "      <th>Rear Brake Type</th>\n",
       "      <th>Tyre Type</th>\n",
       "      <th>No Door Numbers</th>\n",
       "      <th>Location</th>\n",
       "    </tr>\n",
       "  </thead>\n",
       "  <tbody>\n",
       "    <tr>\n",
       "      <th>0</th>\n",
       "      <td>Petrol</td>\n",
       "      <td>Hatchback</td>\n",
       "      <td>1,20,000</td>\n",
       "      <td>Manual</td>\n",
       "      <td>3</td>\n",
       "      <td>Maruti</td>\n",
       "      <td>Maruti Celerio</td>\n",
       "      <td>2015</td>\n",
       "      <td>VXI</td>\n",
       "      <td>400000.0</td>\n",
       "      <td>Third Party insurance</td>\n",
       "      <td>KA51</td>\n",
       "      <td>23.1 kmpl</td>\n",
       "      <td>White</td>\n",
       "      <td>K10B Engine</td>\n",
       "      <td>998.0</td>\n",
       "      <td>3.0</td>\n",
       "      <td>MPFi</td>\n",
       "      <td>No</td>\n",
       "      <td>No</td>\n",
       "      <td>5 Speed</td>\n",
       "      <td>FWD</td>\n",
       "      <td>5.0</td>\n",
       "      <td>Power</td>\n",
       "      <td>Ventilated Disc</td>\n",
       "      <td>Drum</td>\n",
       "      <td>Tubeless, Radial</td>\n",
       "      <td>5.0</td>\n",
       "      <td>Bangalore</td>\n",
       "    </tr>\n",
       "  </tbody>\n",
       "</table>\n",
       "</div>"
      ],
      "text/plain": [
       "       ft         bt        km transmission  ownerNo     oem           model  \\\n",
       "0  Petrol  Hatchback  1,20,000       Manual        3  Maruti  Maruti Celerio   \n",
       "\n",
       "   modelYear variantName     price     Insurance Validity   RTO    Mileage  \\\n",
       "0       2015         VXI  400000.0  Third Party insurance  KA51  23.1 kmpl   \n",
       "\n",
       "   Color  Engine Type  Displacement  No of Cylinder Fuel Suppy System  \\\n",
       "0  White  K10B Engine         998.0             3.0              MPFi   \n",
       "\n",
       "  Turbo Charger Super Charger  Gear Box Drive Type  Seating Capacity  \\\n",
       "0            No            No  5 Speed         FWD               5.0   \n",
       "\n",
       "  Steering Type Front Brake Type Rear Brake Type         Tyre Type  \\\n",
       "0         Power  Ventilated Disc            Drum  Tubeless, Radial   \n",
       "\n",
       "   No Door Numbers   Location  \n",
       "0              5.0  Bangalore  "
      ]
     },
     "execution_count": 23,
     "metadata": {},
     "output_type": "execute_result"
    }
   ],
   "source": [
    "# price \n",
    "\n",
    "def convert_price(price_str):\n",
    "    # Remove the currency symbol and commas\n",
    "    price_str = re.sub(r'[₹,]', '', price_str).strip()\n",
    "    \n",
    "    # Handle different units\n",
    "    if 'Crore' in price_str:\n",
    "        price_str = price_str.replace('Crore', '').strip()\n",
    "        return float(price_str) * 10000000  # Convert to the base unit (e.g., rupees)\n",
    "    elif 'Lakh' in price_str:\n",
    "        price_str = price_str.replace('Lakh', '').strip()\n",
    "        return float(price_str) * 100000  # Convert to the base unit (e.g., rupees)\n",
    "    elif 'Thousand' in price_str:\n",
    "        price_str = price_str.replace('Thousand', '').strip()\n",
    "        return float(price_str) * 1000  # Convert to the base unit (e.g., rupees)\n",
    "    else:\n",
    "        return float(price_str)  # Assume it's already in the base unit (e.g., rupees)\n",
    "\n",
    "# Apply the conversion function to the 'price' column\n",
    "df_cars['price'] = df_cars['price'].apply(convert_price)\n",
    "df_cars.head(1)"
   ]
  },
  {
   "cell_type": "code",
   "execution_count": 24,
   "id": "09eab0ee-d85c-41bc-b787-7f2261a20be9",
   "metadata": {},
   "outputs": [
    {
     "data": {
      "text/html": [
       "<div>\n",
       "<style scoped>\n",
       "    .dataframe tbody tr th:only-of-type {\n",
       "        vertical-align: middle;\n",
       "    }\n",
       "\n",
       "    .dataframe tbody tr th {\n",
       "        vertical-align: top;\n",
       "    }\n",
       "\n",
       "    .dataframe thead th {\n",
       "        text-align: right;\n",
       "    }\n",
       "</style>\n",
       "<table border=\"1\" class=\"dataframe\">\n",
       "  <thead>\n",
       "    <tr style=\"text-align: right;\">\n",
       "      <th></th>\n",
       "      <th>ft</th>\n",
       "      <th>bt</th>\n",
       "      <th>km</th>\n",
       "      <th>transmission</th>\n",
       "      <th>ownerNo</th>\n",
       "      <th>oem</th>\n",
       "      <th>model</th>\n",
       "      <th>modelYear</th>\n",
       "      <th>variantName</th>\n",
       "      <th>price</th>\n",
       "      <th>Insurance Validity</th>\n",
       "      <th>RTO</th>\n",
       "      <th>Mileage</th>\n",
       "      <th>Color</th>\n",
       "      <th>Engine Type</th>\n",
       "      <th>Displacement</th>\n",
       "      <th>No of Cylinder</th>\n",
       "      <th>Fuel Suppy System</th>\n",
       "      <th>Turbo Charger</th>\n",
       "      <th>Super Charger</th>\n",
       "      <th>Gear Box</th>\n",
       "      <th>Drive Type</th>\n",
       "      <th>Seating Capacity</th>\n",
       "      <th>Steering Type</th>\n",
       "      <th>Front Brake Type</th>\n",
       "      <th>Rear Brake Type</th>\n",
       "      <th>Tyre Type</th>\n",
       "      <th>No Door Numbers</th>\n",
       "      <th>Location</th>\n",
       "    </tr>\n",
       "  </thead>\n",
       "  <tbody>\n",
       "    <tr>\n",
       "      <th>0</th>\n",
       "      <td>Petrol</td>\n",
       "      <td>Hatchback</td>\n",
       "      <td>120000.0</td>\n",
       "      <td>Manual</td>\n",
       "      <td>3</td>\n",
       "      <td>Maruti</td>\n",
       "      <td>Maruti Celerio</td>\n",
       "      <td>2015</td>\n",
       "      <td>VXI</td>\n",
       "      <td>400000.0</td>\n",
       "      <td>Third Party insurance</td>\n",
       "      <td>KA51</td>\n",
       "      <td>23.1 kmpl</td>\n",
       "      <td>White</td>\n",
       "      <td>K10B Engine</td>\n",
       "      <td>998.0</td>\n",
       "      <td>3.0</td>\n",
       "      <td>MPFi</td>\n",
       "      <td>No</td>\n",
       "      <td>No</td>\n",
       "      <td>5 Speed</td>\n",
       "      <td>FWD</td>\n",
       "      <td>5.0</td>\n",
       "      <td>Power</td>\n",
       "      <td>Ventilated Disc</td>\n",
       "      <td>Drum</td>\n",
       "      <td>Tubeless, Radial</td>\n",
       "      <td>5.0</td>\n",
       "      <td>Bangalore</td>\n",
       "    </tr>\n",
       "  </tbody>\n",
       "</table>\n",
       "</div>"
      ],
      "text/plain": [
       "       ft         bt        km transmission  ownerNo     oem           model  \\\n",
       "0  Petrol  Hatchback  120000.0       Manual        3  Maruti  Maruti Celerio   \n",
       "\n",
       "   modelYear variantName     price     Insurance Validity   RTO    Mileage  \\\n",
       "0       2015         VXI  400000.0  Third Party insurance  KA51  23.1 kmpl   \n",
       "\n",
       "   Color  Engine Type  Displacement  No of Cylinder Fuel Suppy System  \\\n",
       "0  White  K10B Engine         998.0             3.0              MPFi   \n",
       "\n",
       "  Turbo Charger Super Charger  Gear Box Drive Type  Seating Capacity  \\\n",
       "0            No            No  5 Speed         FWD               5.0   \n",
       "\n",
       "  Steering Type Front Brake Type Rear Brake Type         Tyre Type  \\\n",
       "0         Power  Ventilated Disc            Drum  Tubeless, Radial   \n",
       "\n",
       "   No Door Numbers   Location  \n",
       "0              5.0  Bangalore  "
      ]
     },
     "execution_count": 24,
     "metadata": {},
     "output_type": "execute_result"
    }
   ],
   "source": [
    "# km\n",
    "def convert_km(km_str):\n",
    "    # Remove commas\n",
    "    km_str = re.sub(r',', '', km_str).strip()\n",
    "    # Convert to float\n",
    "    return float(km_str)\n",
    "\n",
    "# Apply the conversion function to the 'km' column\n",
    "df_cars['km'] = df_cars['km'].apply(convert_km)\n",
    "df_cars.head(1)"
   ]
  },
  {
   "cell_type": "code",
   "execution_count": 25,
   "id": "4f3fbcce-f22d-49ba-b22b-cd7bbdb59ffe",
   "metadata": {},
   "outputs": [
    {
     "data": {
      "text/html": [
       "<div>\n",
       "<style scoped>\n",
       "    .dataframe tbody tr th:only-of-type {\n",
       "        vertical-align: middle;\n",
       "    }\n",
       "\n",
       "    .dataframe tbody tr th {\n",
       "        vertical-align: top;\n",
       "    }\n",
       "\n",
       "    .dataframe thead th {\n",
       "        text-align: right;\n",
       "    }\n",
       "</style>\n",
       "<table border=\"1\" class=\"dataframe\">\n",
       "  <thead>\n",
       "    <tr style=\"text-align: right;\">\n",
       "      <th></th>\n",
       "      <th>ft</th>\n",
       "      <th>bt</th>\n",
       "      <th>km</th>\n",
       "      <th>transmission</th>\n",
       "      <th>ownerNo</th>\n",
       "      <th>oem</th>\n",
       "      <th>model</th>\n",
       "      <th>modelYear</th>\n",
       "      <th>variantName</th>\n",
       "      <th>price</th>\n",
       "      <th>Insurance Validity</th>\n",
       "      <th>RTO</th>\n",
       "      <th>Mileage</th>\n",
       "      <th>Color</th>\n",
       "      <th>Engine Type</th>\n",
       "      <th>Displacement</th>\n",
       "      <th>No of Cylinder</th>\n",
       "      <th>Fuel Suppy System</th>\n",
       "      <th>Turbo Charger</th>\n",
       "      <th>Super Charger</th>\n",
       "      <th>Gear Box</th>\n",
       "      <th>Drive Type</th>\n",
       "      <th>Seating Capacity</th>\n",
       "      <th>Steering Type</th>\n",
       "      <th>Front Brake Type</th>\n",
       "      <th>Rear Brake Type</th>\n",
       "      <th>Tyre Type</th>\n",
       "      <th>No Door Numbers</th>\n",
       "      <th>Location</th>\n",
       "    </tr>\n",
       "  </thead>\n",
       "  <tbody>\n",
       "    <tr>\n",
       "      <th>0</th>\n",
       "      <td>Petrol</td>\n",
       "      <td>Hatchback</td>\n",
       "      <td>120000.0</td>\n",
       "      <td>Manual</td>\n",
       "      <td>3</td>\n",
       "      <td>Maruti</td>\n",
       "      <td>Maruti Celerio</td>\n",
       "      <td>2015</td>\n",
       "      <td>VXI</td>\n",
       "      <td>400000.0</td>\n",
       "      <td>Third Party insurance</td>\n",
       "      <td>KA51</td>\n",
       "      <td>23.1</td>\n",
       "      <td>White</td>\n",
       "      <td>K10B Engine</td>\n",
       "      <td>998.0</td>\n",
       "      <td>3.0</td>\n",
       "      <td>MPFi</td>\n",
       "      <td>No</td>\n",
       "      <td>No</td>\n",
       "      <td>5 Speed</td>\n",
       "      <td>FWD</td>\n",
       "      <td>5.0</td>\n",
       "      <td>Power</td>\n",
       "      <td>Ventilated Disc</td>\n",
       "      <td>Drum</td>\n",
       "      <td>Tubeless, Radial</td>\n",
       "      <td>5.0</td>\n",
       "      <td>Bangalore</td>\n",
       "    </tr>\n",
       "  </tbody>\n",
       "</table>\n",
       "</div>"
      ],
      "text/plain": [
       "       ft         bt        km transmission  ownerNo     oem           model  \\\n",
       "0  Petrol  Hatchback  120000.0       Manual        3  Maruti  Maruti Celerio   \n",
       "\n",
       "   modelYear variantName     price     Insurance Validity   RTO  Mileage  \\\n",
       "0       2015         VXI  400000.0  Third Party insurance  KA51     23.1   \n",
       "\n",
       "   Color  Engine Type  Displacement  No of Cylinder Fuel Suppy System  \\\n",
       "0  White  K10B Engine         998.0             3.0              MPFi   \n",
       "\n",
       "  Turbo Charger Super Charger  Gear Box Drive Type  Seating Capacity  \\\n",
       "0            No            No  5 Speed         FWD               5.0   \n",
       "\n",
       "  Steering Type Front Brake Type Rear Brake Type         Tyre Type  \\\n",
       "0         Power  Ventilated Disc            Drum  Tubeless, Radial   \n",
       "\n",
       "   No Door Numbers   Location  \n",
       "0              5.0  Bangalore  "
      ]
     },
     "execution_count": 25,
     "metadata": {},
     "output_type": "execute_result"
    }
   ],
   "source": [
    "# Mileage\n",
    "\n",
    "def clean_mileage(value):\n",
    "    if pd.isna(value):\n",
    "        return np.nan\n",
    "\n",
    "    value = str(value).strip().lower()\n",
    "\n",
    "    if 'km/kg' in value:\n",
    "        numeric_value = re.sub(r'[^\\d.]', '', value)\n",
    "        numeric_value = numeric_value.rstrip('.')\n",
    "        value_float = float(numeric_value)*0.74\n",
    "        return value_float\n",
    "\n",
    "    else:\n",
    "        numeric_value = re.sub(r'[^\\d.]', '', value)\n",
    "        numeric_value = numeric_value.rstrip('.')\n",
    "        value_float = float(numeric_value)\n",
    "        return value_float\n",
    "\n",
    "df_cars['Mileage'] = df_cars['Mileage'].apply(clean_mileage)\n",
    "df_cars.head(1)"
   ]
  },
  {
   "cell_type": "code",
   "execution_count": 26,
   "id": "4f7717c6-443f-4807-b001-02675076a501",
   "metadata": {},
   "outputs": [
    {
     "data": {
      "text/plain": [
       "ft                       0\n",
       "bt                       4\n",
       "km                       0\n",
       "transmission             0\n",
       "ownerNo                  0\n",
       "oem                      0\n",
       "model                    0\n",
       "modelYear                0\n",
       "variantName              0\n",
       "price                    0\n",
       "Insurance Validity       4\n",
       "RTO                    874\n",
       "Mileage                285\n",
       "Color                    3\n",
       "Engine Type            290\n",
       "Displacement             4\n",
       "No of Cylinder          31\n",
       "Fuel Suppy System     1708\n",
       "Turbo Charger         1029\n",
       "Super Charger         1938\n",
       "Gear Box               106\n",
       "Drive Type            1540\n",
       "Seating Capacity         6\n",
       "Steering Type          254\n",
       "Front Brake Type        96\n",
       "Rear Brake Type         96\n",
       "Tyre Type               77\n",
       "No Door Numbers         11\n",
       "Location                 0\n",
       "dtype: int64"
      ]
     },
     "execution_count": 26,
     "metadata": {},
     "output_type": "execute_result"
    }
   ],
   "source": [
    "df_cars.isna().sum()"
   ]
  },
  {
   "cell_type": "code",
   "execution_count": 27,
   "id": "bf14c094-f9b0-46d0-815b-9a74d299625f",
   "metadata": {},
   "outputs": [
    {
     "name": "stderr",
     "output_type": "stream",
     "text": [
      "C:\\Users\\Siva\\AppData\\Local\\Temp\\ipykernel_31216\\4189711864.py:2: FutureWarning: A value is trying to be set on a copy of a DataFrame or Series through chained assignment using an inplace method.\n",
      "The behavior will change in pandas 3.0. This inplace method will never work because the intermediate object on which we are setting values always behaves as a copy.\n",
      "\n",
      "For example, when doing 'df[col].method(value, inplace=True)', try using 'df.method({col: value}, inplace=True)' or df[col] = df[col].method(value) instead, to perform the operation inplace on the original object.\n",
      "\n",
      "\n",
      "  df_cars['Mileage'].fillna(df_cars['Mileage'].median(), inplace=True)\n",
      "C:\\Users\\Siva\\AppData\\Local\\Temp\\ipykernel_31216\\4189711864.py:3: FutureWarning: A value is trying to be set on a copy of a DataFrame or Series through chained assignment using an inplace method.\n",
      "The behavior will change in pandas 3.0. This inplace method will never work because the intermediate object on which we are setting values always behaves as a copy.\n",
      "\n",
      "For example, when doing 'df[col].method(value, inplace=True)', try using 'df.method({col: value}, inplace=True)' or df[col] = df[col].method(value) instead, to perform the operation inplace on the original object.\n",
      "\n",
      "\n",
      "  df_cars['Displacement'].fillna(df_cars['Displacement'].median(), inplace=True)\n",
      "C:\\Users\\Siva\\AppData\\Local\\Temp\\ipykernel_31216\\4189711864.py:4: FutureWarning: A value is trying to be set on a copy of a DataFrame or Series through chained assignment using an inplace method.\n",
      "The behavior will change in pandas 3.0. This inplace method will never work because the intermediate object on which we are setting values always behaves as a copy.\n",
      "\n",
      "For example, when doing 'df[col].method(value, inplace=True)', try using 'df.method({col: value}, inplace=True)' or df[col] = df[col].method(value) instead, to perform the operation inplace on the original object.\n",
      "\n",
      "\n",
      "  df_cars['No of Cylinder'].fillna(df_cars['No of Cylinder'].median(), inplace=True)\n",
      "C:\\Users\\Siva\\AppData\\Local\\Temp\\ipykernel_31216\\4189711864.py:5: FutureWarning: A value is trying to be set on a copy of a DataFrame or Series through chained assignment using an inplace method.\n",
      "The behavior will change in pandas 3.0. This inplace method will never work because the intermediate object on which we are setting values always behaves as a copy.\n",
      "\n",
      "For example, when doing 'df[col].method(value, inplace=True)', try using 'df.method({col: value}, inplace=True)' or df[col] = df[col].method(value) instead, to perform the operation inplace on the original object.\n",
      "\n",
      "\n",
      "  df_cars['Seating Capacity'].fillna(df_cars['Seating Capacity'].median(), inplace=True)\n",
      "C:\\Users\\Siva\\AppData\\Local\\Temp\\ipykernel_31216\\4189711864.py:6: FutureWarning: A value is trying to be set on a copy of a DataFrame or Series through chained assignment using an inplace method.\n",
      "The behavior will change in pandas 3.0. This inplace method will never work because the intermediate object on which we are setting values always behaves as a copy.\n",
      "\n",
      "For example, when doing 'df[col].method(value, inplace=True)', try using 'df.method({col: value}, inplace=True)' or df[col] = df[col].method(value) instead, to perform the operation inplace on the original object.\n",
      "\n",
      "\n",
      "  df_cars['No Door Numbers'].fillna(df_cars['Seating Capacity'].median(), inplace=True)\n"
     ]
    }
   ],
   "source": [
    "#filling null values in numerical columns with median\n",
    "df_cars['Mileage'].fillna(df_cars['Mileage'].median(), inplace=True)\n",
    "df_cars['Displacement'].fillna(df_cars['Displacement'].median(), inplace=True)\n",
    "df_cars['No of Cylinder'].fillna(df_cars['No of Cylinder'].median(), inplace=True)\n",
    "df_cars['Seating Capacity'].fillna(df_cars['Seating Capacity'].median(), inplace=True)\n",
    "df_cars['No Door Numbers'].fillna(df_cars['Seating Capacity'].median(), inplace=True)"
   ]
  },
  {
   "cell_type": "code",
   "execution_count": 28,
   "id": "6f6bd3aa-c4ef-4531-b815-09a072371076",
   "metadata": {},
   "outputs": [
    {
     "data": {
      "text/plain": [
       "ft                       0\n",
       "bt                       4\n",
       "km                       0\n",
       "transmission             0\n",
       "ownerNo                  0\n",
       "oem                      0\n",
       "model                    0\n",
       "modelYear                0\n",
       "variantName              0\n",
       "price                    0\n",
       "Insurance Validity       4\n",
       "RTO                    874\n",
       "Mileage                  0\n",
       "Color                    3\n",
       "Engine Type            290\n",
       "Displacement             0\n",
       "No of Cylinder           0\n",
       "Fuel Suppy System     1708\n",
       "Turbo Charger         1029\n",
       "Super Charger         1938\n",
       "Gear Box               106\n",
       "Drive Type            1540\n",
       "Seating Capacity         0\n",
       "Steering Type          254\n",
       "Front Brake Type        96\n",
       "Rear Brake Type         96\n",
       "Tyre Type               77\n",
       "No Door Numbers          0\n",
       "Location                 0\n",
       "dtype: int64"
      ]
     },
     "execution_count": 28,
     "metadata": {},
     "output_type": "execute_result"
    }
   ],
   "source": [
    "df_cars.isna().sum()"
   ]
  },
  {
   "cell_type": "code",
   "execution_count": 29,
   "id": "315b70e9-6183-4191-9c8f-2d61e4b4f4f9",
   "metadata": {},
   "outputs": [
    {
     "data": {
      "text/plain": [
       "(7838, 29)"
      ]
     },
     "execution_count": 29,
     "metadata": {},
     "output_type": "execute_result"
    }
   ],
   "source": [
    "# Remove outliers in the numerical columns using z-score\n",
    "# Function to remove outliers using Z-score\n",
    "def remove_outliers_zscore(df, columns, z_thresh=3):\n",
    "        for column in columns:\n",
    "        # Calculate Z-scores\n",
    "            z_scores = stats.zscore(df[column])\n",
    "        \n",
    "        # Filter out the outliers\n",
    "            df = df[(abs(z_scores) < z_thresh)]\n",
    "    \n",
    "        return df\n",
    "\n",
    "# Apply the function to the DataFrame\n",
    "columns_to_check = ['km','price','modelYear','Mileage','Displacement']\n",
    "df_cars_zscore_outlier = remove_outliers_zscore(df_cars, columns_to_check)\n",
    "df_cars_zscore_outlier.shape"
   ]
  },
  {
   "cell_type": "code",
   "execution_count": 30,
   "id": "d94f9786-1234-407b-b976-f1244e064bf2",
   "metadata": {},
   "outputs": [
    {
     "data": {
      "image/png": "[encoded data removed]",
      "text/plain": [
       "<Figure size 1000x800 with 2 Axes>"
      ]
     },
     "metadata": {},
     "output_type": "display_data"
    },
    {
     "name": "stdout",
     "output_type": "stream",
     "text": [
      "Correlation with 'price':\n",
      "km                 -0.256213\n",
      "ownerNo            -0.169339\n",
      "modelYear           0.421369\n",
      "price               1.000000\n",
      "Mileage            -0.346918\n",
      "Displacement        0.565857\n",
      "No of Cylinder      0.245100\n",
      "Seating Capacity    0.137682\n",
      "No Door Numbers    -0.043681\n",
      "Name: price, dtype: float64\n"
     ]
    }
   ],
   "source": [
    "# heatmap for numerical columns\n",
    "\n",
    "numeric_df = df_cars_zscore_outlier.select_dtypes(include=[float, int])\n",
    "\n",
    "# Calculate the correlation matrix\n",
    "correlation_matrix = numeric_df.corr()\n",
    "\n",
    "# Plot the heatmap\n",
    "plt.figure(figsize=(10, 8))\n",
    "sns.heatmap(correlation_matrix, annot=True, cmap='coolwarm', vmin=-1, vmax=1, linewidths=0.5)\n",
    "plt.title('Correlation Heatmap')\n",
    "plt.show()\n",
    "\n",
    "# Extract the correlation with 'price'\n",
    "correlation_with_price = correlation_matrix['price']\n",
    "\n",
    "# Print the correlation matrix with 'price'\n",
    "print(\"Correlation with 'price':\")\n",
    "print(correlation_with_price)"
   ]
  },
  {
   "cell_type": "code",
   "execution_count": 31,
   "id": "557e32a6-b09e-4534-972d-eaf6077b6893",
   "metadata": {},
   "outputs": [
    {
     "name": "stderr",
     "output_type": "stream",
     "text": [
      "C:\\Users\\Siva\\AppData\\Local\\Temp\\ipykernel_31216\\3322647776.py:2: FutureWarning: \n",
      "\n",
      "Passing `palette` without assigning `hue` is deprecated and will be removed in v0.14.0. Assign the `x` variable to `hue` and set `legend=False` for the same effect.\n",
      "\n",
      "  sns.barplot(x=correlation_with_price.index, y=correlation_with_price.values, palette='viridis')\n"
     ]
    },
    {
     "data": {
      "image/png": "[encoded data removed]",
      "text/plain": [
       "<Figure size 1000x600 with 1 Axes>"
      ]
     },
     "metadata": {},
     "output_type": "display_data"
    }
   ],
   "source": [
    "plt.figure(figsize=(10, 6))\n",
    "sns.barplot(x=correlation_with_price.index, y=correlation_with_price.values, palette='viridis')\n",
    "plt.title('Correlation of Numerical Columns with Price')\n",
    "plt.xlabel('Numerical Columns')\n",
    "plt.ylabel('Correlation Coefficient')\n",
    "plt.xticks(rotation=45)\n",
    "plt.show()"
   ]
  },
  {
   "cell_type": "markdown",
   "id": "6f808bfd-78d5-4811-a6c1-8d7348f54c87",
   "metadata": {},
   "source": [
    "#### We can see that modelYear,engine displacement,km has a strong co-relation with price, with rest of them being close to 0, we can also drop mileage as the we can infer from car model thus we choose values > 0.25 or < -0.25"
   ]
  },
  {
   "cell_type": "code",
   "execution_count": 32,
   "id": "28aef8ce-1927-4290-bd6d-b0f6837179c0",
   "metadata": {},
   "outputs": [
    {
     "data": {
      "text/html": [
       "<div>\n",
       "<style scoped>\n",
       "    .dataframe tbody tr th:only-of-type {\n",
       "        vertical-align: middle;\n",
       "    }\n",
       "\n",
       "    .dataframe tbody tr th {\n",
       "        vertical-align: top;\n",
       "    }\n",
       "\n",
       "    .dataframe thead th {\n",
       "        text-align: right;\n",
       "    }\n",
       "</style>\n",
       "<table border=\"1\" class=\"dataframe\">\n",
       "  <thead>\n",
       "    <tr style=\"text-align: right;\">\n",
       "      <th></th>\n",
       "      <th>ft</th>\n",
       "      <th>bt</th>\n",
       "      <th>km</th>\n",
       "      <th>transmission</th>\n",
       "      <th>oem</th>\n",
       "      <th>model</th>\n",
       "      <th>modelYear</th>\n",
       "      <th>variantName</th>\n",
       "      <th>price</th>\n",
       "      <th>Insurance Validity</th>\n",
       "      <th>RTO</th>\n",
       "      <th>Color</th>\n",
       "      <th>Engine Type</th>\n",
       "      <th>Displacement</th>\n",
       "      <th>Fuel Suppy System</th>\n",
       "      <th>Turbo Charger</th>\n",
       "      <th>Super Charger</th>\n",
       "      <th>Gear Box</th>\n",
       "      <th>Drive Type</th>\n",
       "      <th>Steering Type</th>\n",
       "      <th>Front Brake Type</th>\n",
       "      <th>Rear Brake Type</th>\n",
       "      <th>Tyre Type</th>\n",
       "      <th>Location</th>\n",
       "    </tr>\n",
       "  </thead>\n",
       "  <tbody>\n",
       "    <tr>\n",
       "      <th>0</th>\n",
       "      <td>Petrol</td>\n",
       "      <td>Hatchback</td>\n",
       "      <td>120000.0</td>\n",
       "      <td>Manual</td>\n",
       "      <td>Maruti</td>\n",
       "      <td>Maruti Celerio</td>\n",
       "      <td>2015</td>\n",
       "      <td>VXI</td>\n",
       "      <td>400000.0</td>\n",
       "      <td>Third Party insurance</td>\n",
       "      <td>KA51</td>\n",
       "      <td>White</td>\n",
       "      <td>K10B Engine</td>\n",
       "      <td>998.0</td>\n",
       "      <td>MPFi</td>\n",
       "      <td>No</td>\n",
       "      <td>No</td>\n",
       "      <td>5 Speed</td>\n",
       "      <td>FWD</td>\n",
       "      <td>Power</td>\n",
       "      <td>Ventilated Disc</td>\n",
       "      <td>Drum</td>\n",
       "      <td>Tubeless, Radial</td>\n",
       "      <td>Bangalore</td>\n",
       "    </tr>\n",
       "  </tbody>\n",
       "</table>\n",
       "</div>"
      ],
      "text/plain": [
       "       ft         bt        km transmission     oem           model  \\\n",
       "0  Petrol  Hatchback  120000.0       Manual  Maruti  Maruti Celerio   \n",
       "\n",
       "   modelYear variantName     price     Insurance Validity   RTO  Color  \\\n",
       "0       2015         VXI  400000.0  Third Party insurance  KA51  White   \n",
       "\n",
       "   Engine Type  Displacement Fuel Suppy System Turbo Charger Super Charger  \\\n",
       "0  K10B Engine         998.0              MPFi            No            No   \n",
       "\n",
       "   Gear Box Drive Type Steering Type Front Brake Type Rear Brake Type  \\\n",
       "0  5 Speed         FWD         Power  Ventilated Disc            Drum   \n",
       "\n",
       "          Tyre Type   Location  \n",
       "0  Tubeless, Radial  Bangalore  "
      ]
     },
     "execution_count": 32,
     "metadata": {},
     "output_type": "execute_result"
    }
   ],
   "source": [
    "# dropping columns not required according to co-relation with price but can keep ownerNo as it makes sense\n",
    "\n",
    "df_cars_zscore_outlier.drop(['Seating Capacity','No Door Numbers','No of Cylinder','ownerNo','Mileage'],axis=1, inplace=True)\n",
    "df_cars_zscore_outlier.head(1)"
   ]
  },
  {
   "cell_type": "markdown",
   "id": "7bd3fa28-34f5-42cd-9bdf-bb46a13b7f33",
   "metadata": {},
   "source": [
    "## Dealing with Categorical data\n"
   ]
  },
  {
   "cell_type": "code",
   "execution_count": 33,
   "id": "16dfdf26-ad44-4da2-9374-f6800976144d",
   "metadata": {},
   "outputs": [
    {
     "data": {
      "text/plain": [
       "ft                                   Petrol\n",
       "bt                                Hatchback\n",
       "km                                 120000.0\n",
       "transmission                         Manual\n",
       "oem                                  Maruti\n",
       "model                        Maruti Celerio\n",
       "modelYear                              2015\n",
       "variantName                             VXI\n",
       "price                              400000.0\n",
       "Insurance Validity    Third Party insurance\n",
       "RTO                                    KA51\n",
       "Color                                 White\n",
       "Engine Type                     K10B Engine\n",
       "Displacement                          998.0\n",
       "Fuel Suppy System                      MPFi\n",
       "Turbo Charger                            No\n",
       "Super Charger                            No\n",
       "Gear Box                           5 Speed \n",
       "Drive Type                              FWD\n",
       "Steering Type                         Power\n",
       "Front Brake Type            Ventilated Disc\n",
       "Rear Brake Type                        Drum\n",
       "Tyre Type                  Tubeless, Radial\n",
       "Location                          Bangalore\n",
       "Name: 0, dtype: object"
      ]
     },
     "execution_count": 33,
     "metadata": {},
     "output_type": "execute_result"
    }
   ],
   "source": [
    "df_cars_zscore_outlier.iloc[0]"
   ]
  },
  {
   "cell_type": "code",
   "execution_count": 34,
   "id": "8e5534b1-3280-4745-9607-76be99be6f4d",
   "metadata": {},
   "outputs": [
    {
     "data": {
      "text/plain": [
       "ft                       0\n",
       "bt                       3\n",
       "km                       0\n",
       "transmission             0\n",
       "oem                      0\n",
       "model                    0\n",
       "modelYear                0\n",
       "variantName              0\n",
       "price                    0\n",
       "Insurance Validity       4\n",
       "RTO                    823\n",
       "Color                    0\n",
       "Engine Type            233\n",
       "Displacement             0\n",
       "Fuel Suppy System     1591\n",
       "Turbo Charger          957\n",
       "Super Charger         1811\n",
       "Gear Box                59\n",
       "Drive Type            1454\n",
       "Steering Type          230\n",
       "Front Brake Type        61\n",
       "Rear Brake Type         61\n",
       "Tyre Type               54\n",
       "Location                 0\n",
       "dtype: int64"
      ]
     },
     "execution_count": 34,
     "metadata": {},
     "output_type": "execute_result"
    }
   ],
   "source": [
    "df_cars_zscore_outlier.isna().sum()"
   ]
  },
  {
   "cell_type": "markdown",
   "id": "ad33a880-eea5-4ef2-b236-e8a8a84c18fa",
   "metadata": {},
   "source": [
    "### RTO Location column"
   ]
  },
  {
   "cell_type": "code",
   "execution_count": 35,
   "id": "c6806337-bb13-4eff-a97b-b8ac72a92aab",
   "metadata": {},
   "outputs": [
    {
     "data": {
      "text/html": [
       "<div>\n",
       "<style scoped>\n",
       "    .dataframe tbody tr th:only-of-type {\n",
       "        vertical-align: middle;\n",
       "    }\n",
       "\n",
       "    .dataframe tbody tr th {\n",
       "        vertical-align: top;\n",
       "    }\n",
       "\n",
       "    .dataframe thead th {\n",
       "        text-align: right;\n",
       "    }\n",
       "</style>\n",
       "<table border=\"1\" class=\"dataframe\">\n",
       "  <thead>\n",
       "    <tr style=\"text-align: right;\">\n",
       "      <th></th>\n",
       "      <th>ft</th>\n",
       "      <th>bt</th>\n",
       "      <th>km</th>\n",
       "      <th>transmission</th>\n",
       "      <th>oem</th>\n",
       "      <th>model</th>\n",
       "      <th>modelYear</th>\n",
       "      <th>variantName</th>\n",
       "      <th>price</th>\n",
       "      <th>Insurance Validity</th>\n",
       "      <th>Color</th>\n",
       "      <th>Engine Type</th>\n",
       "      <th>Displacement</th>\n",
       "      <th>Fuel Suppy System</th>\n",
       "      <th>Turbo Charger</th>\n",
       "      <th>Super Charger</th>\n",
       "      <th>Gear Box</th>\n",
       "      <th>Drive Type</th>\n",
       "      <th>Steering Type</th>\n",
       "      <th>Front Brake Type</th>\n",
       "      <th>Rear Brake Type</th>\n",
       "      <th>Tyre Type</th>\n",
       "      <th>Location</th>\n",
       "      <th>RTO_grouped</th>\n",
       "    </tr>\n",
       "  </thead>\n",
       "  <tbody>\n",
       "    <tr>\n",
       "      <th>0</th>\n",
       "      <td>Petrol</td>\n",
       "      <td>Hatchback</td>\n",
       "      <td>120000.0</td>\n",
       "      <td>Manual</td>\n",
       "      <td>Maruti</td>\n",
       "      <td>Maruti Celerio</td>\n",
       "      <td>2015</td>\n",
       "      <td>VXI</td>\n",
       "      <td>400000.0</td>\n",
       "      <td>Third Party insurance</td>\n",
       "      <td>White</td>\n",
       "      <td>K10B Engine</td>\n",
       "      <td>998.0</td>\n",
       "      <td>MPFi</td>\n",
       "      <td>No</td>\n",
       "      <td>No</td>\n",
       "      <td>5 Speed</td>\n",
       "      <td>FWD</td>\n",
       "      <td>Power</td>\n",
       "      <td>Ventilated Disc</td>\n",
       "      <td>Drum</td>\n",
       "      <td>Tubeless, Radial</td>\n",
       "      <td>Bangalore</td>\n",
       "      <td>Karnataka</td>\n",
       "    </tr>\n",
       "  </tbody>\n",
       "</table>\n",
       "</div>"
      ],
      "text/plain": [
       "       ft         bt        km transmission     oem           model  \\\n",
       "0  Petrol  Hatchback  120000.0       Manual  Maruti  Maruti Celerio   \n",
       "\n",
       "   modelYear variantName     price     Insurance Validity  Color  Engine Type  \\\n",
       "0       2015         VXI  400000.0  Third Party insurance  White  K10B Engine   \n",
       "\n",
       "   Displacement Fuel Suppy System Turbo Charger Super Charger  Gear Box  \\\n",
       "0         998.0              MPFi            No            No  5 Speed    \n",
       "\n",
       "  Drive Type Steering Type Front Brake Type Rear Brake Type         Tyre Type  \\\n",
       "0        FWD         Power  Ventilated Disc            Drum  Tubeless, Radial   \n",
       "\n",
       "    Location RTO_grouped  \n",
       "0  Bangalore   Karnataka  "
      ]
     },
     "execution_count": 35,
     "metadata": {},
     "output_type": "execute_result"
    }
   ],
   "source": [
    "rto_group_mapping = {\n",
    "    'KA': 'Karnataka',\n",
    "    'HR': 'Haryana',\n",
    "    'WB': 'West Bengal',\n",
    "    'TN': 'Tamil Nadu',\n",
    "    'UP': 'Uttar Pradesh',\n",
    "    'DL': 'Delhi',\n",
    "    'MH': 'Maharashtra',\n",
    "    'RJ': 'Rajasthan',\n",
    "    'AP': 'Andhra Pradesh',\n",
    "    'GJ': 'Gujarat',\n",
    "    'OR': 'Odisha',\n",
    "    'PY': 'Puducherry',\n",
    "    'Unknown': 'Unknown'\n",
    "}\n",
    "\n",
    "# Function to map RTO values\n",
    "def map_rto(rto):\n",
    "    if pd.isna(rto):\n",
    "        return 'Unknown'\n",
    "    rto_str = str(rto)  # Convert value to string\n",
    "    for key in rto_group_mapping:\n",
    "        if rto_str.startswith(key):\n",
    "            return rto_group_mapping[key]\n",
    "    return 'Unknown'\n",
    "\n",
    "# Convert float values to 'Unknown'\n",
    "df_cars_zscore_outlier['RTO'] = df_cars_zscore_outlier['RTO'].fillna('Unknown')\n",
    "\n",
    "# Apply the function to the DataFrame\n",
    "df_cars_zscore_outlier['RTO_grouped'] = df_cars_zscore_outlier['RTO'].apply(map_rto)\n",
    "df_cars_zscore_outlier.drop('RTO',axis=1,inplace=True)\n",
    "df_cars_zscore_outlier.head(1)"
   ]
  },
  {
   "cell_type": "code",
   "execution_count": 36,
   "id": "5bf7f075-7402-4b6b-b059-70ab75402604",
   "metadata": {},
   "outputs": [
    {
     "data": {
      "image/png": "[encoded data removed]",
      "text/plain": [
       "<Figure size 1200x800 with 1 Axes>"
      ]
     },
     "metadata": {},
     "output_type": "display_data"
    }
   ],
   "source": [
    "plt.figure(figsize=(12, 8))\n",
    "average_prices = df_cars_zscore_outlier.groupby('RTO_grouped')['price'].mean().sort_values()\n",
    "average_prices.plot(kind='bar', color='skyblue')\n",
    "plt.xticks(rotation=90)\n",
    "plt.title('Average Price by RTO Group')\n",
    "plt.xlabel('RTO Group')\n",
    "plt.ylabel('Average Price')\n",
    "plt.show()\n"
   ]
  },
  {
   "cell_type": "code",
   "execution_count": 37,
   "id": "1dffd95c-9118-4143-8141-6b3b01f19e3d",
   "metadata": {},
   "outputs": [
    {
     "data": {
      "image/png": "[encoded data removed]",
      "text/plain": [
       "<Figure size 1200x800 with 1 Axes>"
      ]
     },
     "metadata": {},
     "output_type": "display_data"
    }
   ],
   "source": [
    "plt.figure(figsize=(12, 8))\n",
    "average_prices = df_cars_zscore_outlier.groupby('Location')['price'].mean().sort_values()\n",
    "average_prices.plot(kind='bar', color='skyblue')\n",
    "plt.xticks(rotation=90)\n",
    "plt.title('Average Price by Location')\n",
    "plt.xlabel('Location')\n",
    "plt.ylabel('Average Price')\n",
    "plt.show()\n"
   ]
  },
  {
   "cell_type": "markdown",
   "id": "52ea330c-b397-4620-b759-131d62aaf827",
   "metadata": {},
   "source": [
    "### Can keep these two columns RTO_group and Location"
   ]
  },
  {
   "cell_type": "markdown",
   "id": "6bfcb6a6-1df8-4967-8795-0d816a2ab64e",
   "metadata": {},
   "source": [
    "## Color Column "
   ]
  },
  {
   "cell_type": "code",
   "execution_count": 38,
   "id": "f1a2261a-7421-45b4-8506-7de6a0144652",
   "metadata": {},
   "outputs": [
    {
     "data": {
      "text/plain": [
       "Color\n",
       "Other     2138\n",
       "White     1552\n",
       "Silver    1266\n",
       "Red        806\n",
       "Gray       614\n",
       "Blue       577\n",
       "Black      378\n",
       "Brown      273\n",
       "Orange     101\n",
       "Gold        57\n",
       "Green       42\n",
       "Yellow      19\n",
       "Purple      10\n",
       "Bronze       5\n",
       "Name: count, dtype: int64"
      ]
     },
     "execution_count": 38,
     "metadata": {},
     "output_type": "execute_result"
    }
   ],
   "source": [
    "def determine_color(color):\n",
    "    color_lower = color.lower()\n",
    "    \n",
    "    if 'white' in color_lower:\n",
    "        return 'White'\n",
    "    elif 'red' in color_lower or 'wine' in color_lower or 'cherry' in color_lower:\n",
    "        return 'Red'\n",
    "    elif 'blue' in color_lower:\n",
    "        return 'Blue'\n",
    "    elif 'brown' in color_lower:\n",
    "        return 'Brown'\n",
    "    elif 'gold' in color_lower:\n",
    "        return 'Gold'\n",
    "    elif 'green' in color_lower:\n",
    "        return 'Green'\n",
    "    elif 'black' in color_lower:\n",
    "        return 'Black'     \n",
    "    elif 'orange' in color_lower:\n",
    "        return 'Orange'\n",
    "    elif 'yellow' in color_lower:\n",
    "        return 'Yellow'\n",
    "    elif 'bronze' in color_lower:\n",
    "        return 'Bronze'\n",
    "    elif 'purple' in color_lower:\n",
    "        return 'Purple'\n",
    "    elif 'grey' in color_lower or 'gray' in color_lower:\n",
    "        return 'Gray'\n",
    "    elif 'silver' in color_lower or 'metal' in color_lower or 'steel' in color_lower:\n",
    "        return 'Silver'\n",
    "    else:\n",
    "        return 'Other'  # Returns Other if no condition is met\n",
    "\n",
    "# Apply the function to the DataFrame column\n",
    "df_cars_zscore_outlier['Color'] = df_cars_zscore_outlier['Color'].apply(determine_color)\n",
    "df_cars_zscore_outlier['Color'].value_counts()"
   ]
  },
  {
   "cell_type": "code",
   "execution_count": 39,
   "id": "3b5ab088-d560-42e3-8455-7ab1f279e2a2",
   "metadata": {},
   "outputs": [
    {
     "data": {
      "image/png": "[encoded data removed]",
      "text/plain": [
       "<Figure size 1200x800 with 1 Axes>"
      ]
     },
     "metadata": {},
     "output_type": "display_data"
    }
   ],
   "source": [
    "plt.figure(figsize=(12, 8))\n",
    "average_prices = df_cars_zscore_outlier.groupby('Color')['price'].mean().sort_values()\n",
    "average_prices.plot(kind='bar', color='skyblue')\n",
    "plt.xticks(rotation=90)\n",
    "plt.title('Average Price by Color')\n",
    "plt.xlabel('Color')\n",
    "plt.ylabel('Average Price')\n",
    "plt.show()\n"
   ]
  },
  {
   "cell_type": "markdown",
   "id": "d2fe9345-ecd3-4544-8de8-0c74c2303c87",
   "metadata": {},
   "source": [
    "### Can keep this column too as price does vary with color "
   ]
  },
  {
   "cell_type": "markdown",
   "id": "326a45c6-3b8b-437b-8d97-e512c72cb38b",
   "metadata": {},
   "source": [
    "## Insurance Validity Column \n"
   ]
  },
  {
   "cell_type": "code",
   "execution_count": 40,
   "id": "a0486af1-a3fa-4d45-ad49-e678aa90a7c0",
   "metadata": {},
   "outputs": [
    {
     "data": {
      "text/plain": [
       "array(['Third Party insurance', 'Comprehensive', 'Third Party',\n",
       "       'Zero Dep', nan, '2', '1', 'Not Available'], dtype=object)"
      ]
     },
     "execution_count": 40,
     "metadata": {},
     "output_type": "execute_result"
    }
   ],
   "source": [
    "df_cars_zscore_outlier['Insurance Validity'].unique()"
   ]
  },
  {
   "cell_type": "code",
   "execution_count": 41,
   "id": "ef73e12b-f95c-4630-a2d8-08134fd5e38d",
   "metadata": {},
   "outputs": [],
   "source": [
    "df_cars_zscore_outlier['Insurance Validity']= df_cars_zscore_outlier['Insurance Validity'].replace('Third Party insurance','Third Party')"
   ]
  },
  {
   "cell_type": "code",
   "execution_count": 42,
   "id": "58d71e82-cde1-4597-98a8-53af7b755771",
   "metadata": {},
   "outputs": [
    {
     "data": {
      "text/plain": [
       "Insurance Validity\n",
       "Third Party      4410\n",
       "Comprehensive    2907\n",
       "Zero Dep          297\n",
       "Not Available     216\n",
       "1                   3\n",
       "2                   1\n",
       "Name: count, dtype: int64"
      ]
     },
     "execution_count": 42,
     "metadata": {},
     "output_type": "execute_result"
    }
   ],
   "source": [
    "df_cars_zscore_outlier['Insurance Validity'].value_counts()"
   ]
  },
  {
   "cell_type": "code",
   "execution_count": 43,
   "id": "55bb767d-cfe7-4bcf-a469-be98e86add6b",
   "metadata": {},
   "outputs": [
    {
     "name": "stderr",
     "output_type": "stream",
     "text": [
      "C:\\Users\\Siva\\AppData\\Local\\Temp\\ipykernel_31216\\1112464528.py:2: FutureWarning: A value is trying to be set on a copy of a DataFrame or Series through chained assignment using an inplace method.\n",
      "The behavior will change in pandas 3.0. This inplace method will never work because the intermediate object on which we are setting values always behaves as a copy.\n",
      "\n",
      "For example, when doing 'df[col].method(value, inplace=True)', try using 'df.method({col: value}, inplace=True)' or df[col] = df[col].method(value) instead, to perform the operation inplace on the original object.\n",
      "\n",
      "\n",
      "  df_cars_zscore_outlier['Insurance Validity'].fillna('Not Available', inplace=True)\n"
     ]
    },
    {
     "data": {
      "text/plain": [
       "Insurance Validity\n",
       "Third Party      4410\n",
       "Comprehensive    2907\n",
       "Zero Dep          297\n",
       "Not Available     220\n",
       "Name: count, dtype: int64"
      ]
     },
     "execution_count": 43,
     "metadata": {},
     "output_type": "execute_result"
    }
   ],
   "source": [
    "df_cars_zscore_outlier = df_cars_zscore_outlier[~df_cars_zscore_outlier['Insurance Validity'].isin(['1', '2'])]\n",
    "df_cars_zscore_outlier['Insurance Validity'].fillna('Not Available', inplace=True)\n",
    "df_cars_zscore_outlier['Insurance Validity'].value_counts()"
   ]
  },
  {
   "cell_type": "code",
   "execution_count": 44,
   "id": "ea8aa5ac-5e23-4a0a-9ebe-48290619000e",
   "metadata": {},
   "outputs": [
    {
     "data": {
      "image/png": "[encoded data removed]",
      "text/plain": [
       "<Figure size 1200x800 with 1 Axes>"
      ]
     },
     "metadata": {},
     "output_type": "display_data"
    }
   ],
   "source": [
    "plt.figure(figsize=(12, 8))\n",
    "average_prices = df_cars_zscore_outlier.groupby('Insurance Validity')['price'].mean().sort_values()\n",
    "average_prices.plot(kind='bar', color='skyblue')\n",
    "plt.xticks(rotation=90)\n",
    "plt.title('Average Price by Insurance Validity')\n",
    "plt.xlabel('Insurance Validity')\n",
    "plt.ylabel('Average Price')\n",
    "plt.show()\n"
   ]
  },
  {
   "cell_type": "markdown",
   "id": "b26da8bd-3692-4d8c-878e-3d48bc33a698",
   "metadata": {},
   "source": [
    "### Price does vary as thus we retain the Insurance Column"
   ]
  },
  {
   "cell_type": "markdown",
   "id": "20d19c0c-47bc-4887-910f-eb727fee1d03",
   "metadata": {},
   "source": [
    "## Engine Type Column"
   ]
  },
  {
   "cell_type": "code",
   "execution_count": 45,
   "id": "ac495966-cd9b-494a-adfa-f05abee906b3",
   "metadata": {},
   "outputs": [
    {
     "name": "stdout",
     "output_type": "stream",
     "text": [
      "0                 K10B Engine\n",
      "1        Ti-VCT Petrol Engine\n",
      "2             Revotron Engine\n",
      "3    Kappa VTVT Petrol Engine\n",
      "4      DDiS 200 Diesel Engine\n",
      "Name: Engine Type, dtype: object\n",
      "233\n",
      "Engine Type\n",
      "In-Line Engine              437\n",
      "Kappa VTVT Petrol Engine    424\n",
      "Petrol Engine               309\n",
      "i-VTEC Petrol Engine        266\n",
      "i VTEC Engine               199\n",
      "                           ... \n",
      "2AR-FE Petrol Engine          1\n",
      " Petrol Engine                1\n",
      "Smartstream G1.5 T-GDi        1\n",
      "mDI CRDe Diesel Engine        1\n",
      "TDI Engine                    1\n",
      "Name: count, Length: 447, dtype: int64\n"
     ]
    }
   ],
   "source": [
    "print(df_cars_zscore_outlier['Engine Type'].head())\n",
    "print(df_cars_zscore_outlier['Engine Type'].isna().sum())\n",
    "print(df_cars_zscore_outlier['Engine Type'].value_counts())\n",
    "df_cars_zscore_outlier.drop('Engine Type',axis=1,inplace=True)"
   ]
  },
  {
   "cell_type": "markdown",
   "id": "35d40f98-16d3-46df-b1a2-6e067770a0c7",
   "metadata": {},
   "source": [
    "#### We can drop this column as well as it has lots of unique values which may not overlap with car models which may reduce overall efficieny of the model, thus we can use other parameters such as fuel type, engine, or Torque if it meets the criteria\n",
    "\n",
    "## ft and bt columns (fuel type and body type)"
   ]
  },
  {
   "cell_type": "markdown",
   "id": "955dd869-3d8d-4968-88e7-0d1da463acce",
   "metadata": {},
   "source": [
    "#### We can keep ft but can remove body type as each car model will definetly have a unique body type"
   ]
  },
  {
   "cell_type": "code",
   "execution_count": 46,
   "id": "c1671ea7-312a-4271-bb7f-e95de7808ead",
   "metadata": {},
   "outputs": [
    {
     "data": {
      "image/png": "[encoded data removed]",
      "text/plain": [
       "<Figure size 1200x800 with 1 Axes>"
      ]
     },
     "metadata": {},
     "output_type": "display_data"
    }
   ],
   "source": [
    "plt.figure(figsize=(12, 8))\n",
    "average_prices = df_cars_zscore_outlier.groupby('ft')['price'].mean().sort_values()\n",
    "average_prices.plot(kind='bar', color='skyblue')\n",
    "plt.xticks(rotation=90)\n",
    "plt.title('Average Price by Fuel Type')\n",
    "plt.xlabel('Fuel Type')\n",
    "plt.ylabel('Average Price')\n",
    "plt.show()\n"
   ]
  },
  {
   "cell_type": "code",
   "execution_count": 47,
   "id": "dcccd27a-fb8f-4dd9-9f8e-46639c9ccd38",
   "metadata": {},
   "outputs": [],
   "source": [
    "#combining cng and lpg to gas \n",
    "df_cars_zscore_outlier['ft']= df_cars_zscore_outlier['ft'].replace('Cng','Gas')\n",
    "df_cars_zscore_outlier['ft']= df_cars_zscore_outlier['ft'].replace('Lpg','Gas')\n",
    "\n",
    "#dropping bt \n",
    "df_cars_zscore_outlier.drop(['bt'], axis=1,inplace=True)"
   ]
  },
  {
   "cell_type": "markdown",
   "id": "4fb74cd2-3e2a-483e-a438-2067d2985dbb",
   "metadata": {},
   "source": [
    "## oem, model, and variant name columns"
   ]
  },
  {
   "cell_type": "code",
   "execution_count": 48,
   "id": "fa64b49d-5166-49b0-b325-f8f9cd733678",
   "metadata": {},
   "outputs": [
    {
     "name": "stdout",
     "output_type": "stream",
     "text": [
      "Null values(oem): 0\n",
      "unique elements and its occurance(oem): oem\n",
      "Maruti                2170\n",
      "Hyundai               1625\n",
      "Honda                  852\n",
      "Tata                   408\n",
      "Mahindra               364\n",
      "Renault                309\n",
      "Volkswagen             286\n",
      "Ford                   283\n",
      "Toyota                 245\n",
      "Skoda                  158\n",
      "Kia                    155\n",
      "Mercedes-Benz          151\n",
      "Audi                   129\n",
      "BMW                    122\n",
      "Jeep                   108\n",
      "MG                      83\n",
      "Nissan                  78\n",
      "Chevrolet               76\n",
      "Datsun                  74\n",
      "Volvo                   37\n",
      "Fiat                    30\n",
      "Jaguar                  25\n",
      "Land Rover              22\n",
      "Mini                    11\n",
      "Mitsubishi               9\n",
      "Citroen                  8\n",
      "Mahindra Renault         5\n",
      "Mahindra Ssangyong       4\n",
      "Lexus                    2\n",
      "Hindustan Motors         2\n",
      "Isuzu                    2\n",
      "Porsche                  1\n",
      "Name: count, dtype: int64\n",
      "no. of unique elements (oem): 32\n",
      "\n",
      "Null values(model): 0\n",
      "unique elements and its occurance(model): model\n",
      "Honda City                363\n",
      "Maruti Swift              348\n",
      "Hyundai i20               328\n",
      "Maruti Baleno             292\n",
      "Hyundai Grand i10         259\n",
      "                         ... \n",
      "Honda City Hybrid           1\n",
      "Tata Aria                   1\n",
      "Jeep Compass Trailhawk      1\n",
      "Fiat Abarth Avventura       1\n",
      "Volkswagen CrossPolo        1\n",
      "Name: count, Length: 260, dtype: int64\n",
      "no. of unique elements(model): 260\n",
      "\n",
      "Null values(variantName): 0\n",
      "unique elements and its occurance(variantName): variantName\n",
      "VXI                    333\n",
      "LXI                    142\n",
      "Sportz                  96\n",
      "VDI                     78\n",
      "Magna                   77\n",
      "                      ... \n",
      "SX Opt iMT               1\n",
      "KRAZ                     1\n",
      "CNG                      1\n",
      "mHAWK100 T8 AMT          1\n",
      "1.5 DV5 MT Ambiente      1\n",
      "Name: count, Length: 1971, dtype: int64\n",
      "no. of unique elements(variantName) 1971\n"
     ]
    }
   ],
   "source": [
    "print('Null values(oem):',df_cars_zscore_outlier['oem'].isna().sum())\n",
    "print('unique elements and its occurance(oem):',df_cars_zscore_outlier['oem'].value_counts())\n",
    "print('no. of unique elements (oem):',df_cars_zscore_outlier['oem'].nunique())\n",
    "\n",
    "print('\\nNull values(model):',df_cars_zscore_outlier['model'].isna().sum())\n",
    "print('unique elements and its occurance(model):',df_cars_zscore_outlier['model'].value_counts())\n",
    "print('no. of unique elements(model):',df_cars_zscore_outlier['model'].nunique())\n",
    "\n",
    "print('\\nNull values(variantName):',df_cars_zscore_outlier['variantName'].isna().sum())\n",
    "print('unique elements and its occurance(variantName):',df_cars_zscore_outlier['variantName'].value_counts())\n",
    "print('no. of unique elements(variantName)',df_cars_zscore_outlier['variantName'].nunique())\n"
   ]
  },
  {
   "cell_type": "markdown",
   "id": "f0f74e8a-34e7-41a3-b163-9d63f5a6806d",
   "metadata": {},
   "source": [
    "## variant type can be dropped as it has many different but can instead use car displacement instead "
   ]
  },
  {
   "cell_type": "code",
   "execution_count": 49,
   "id": "62580ea6-102e-4b1a-9da5-4b2a5287c43e",
   "metadata": {},
   "outputs": [],
   "source": [
    "df_cars_zscore_outlier = df_cars_zscore_outlier.copy()\n",
    "df_cars_zscore_outlier.drop(['variantName'], axis=1,inplace=True)"
   ]
  },
  {
   "cell_type": "markdown",
   "id": "2b9a3589-33b2-4e64-9f2b-f7cfa7cee221",
   "metadata": {},
   "source": [
    "## Can also look to drop columns where car model and brands are less than 0.5% occurance of each unique value"
   ]
  },
  {
   "cell_type": "code",
   "execution_count": 50,
   "id": "814b74da-aab9-4033-a344-a0e7e6e1b590",
   "metadata": {},
   "outputs": [
    {
     "data": {
      "text/plain": [
       "(5822, 21)"
      ]
     },
     "execution_count": 50,
     "metadata": {},
     "output_type": "execute_result"
    }
   ],
   "source": [
    "freq_oem = df_cars_zscore_outlier['oem'].value_counts()\n",
    "freq_model = df_cars_zscore_outlier['model'].value_counts()\n",
    "\n",
    "# Define threshold\n",
    "threshold = len(df_cars_zscore_outlier) * 0.005\n",
    "\n",
    "# Identify categories to keep and filter \n",
    "categories_to_keep_oem = freq_oem[freq_oem >= threshold].index\n",
    "df_cars_zscore_outlier = df_cars_zscore_outlier[df_cars_zscore_outlier['oem'].isin(categories_to_keep_oem)]\n",
    "\n",
    "categories_to_keep_model= freq_model[freq_model >= threshold].index\n",
    "df_cars_zscore_outlier = df_cars_zscore_outlier[df_cars_zscore_outlier['model'].isin(categories_to_keep_model)]\n",
    "\n",
    "df_cars_zscore_outlier.shape\n"
   ]
  },
  {
   "cell_type": "markdown",
   "id": "2d486ea2-f243-4132-a12d-d42d8618558f",
   "metadata": {},
   "source": [
    "# Fuel Supply System Column"
   ]
  },
  {
   "cell_type": "code",
   "execution_count": 51,
   "id": "de2934b4-1bcf-4bc7-aeb6-263ea2610895",
   "metadata": {},
   "outputs": [
    {
     "name": "stdout",
     "output_type": "stream",
     "text": [
      "Fuel Suppy System\n",
      "MPFI                                  1797\n",
      "MPFi                                   688\n",
      "CRDI                                   543\n",
      "Direct Injection                       462\n",
      "CRDi                                   451\n",
      "PGM-Fi                                 199\n",
      "PGM - Fi                               156\n",
      "GDi                                     83\n",
      "Common Rail                             48\n",
      "MPI                                     41\n",
      "MPi                                     37\n",
      "EFI(Electronic Fuel Injection)          35\n",
      "MPFI                                    33\n",
      "EFI (Electronic Fuel Injection)         26\n",
      "Direct Injection                        25\n",
      "SEFI                                    20\n",
      "TSI                                     15\n",
      "CDI                                     11\n",
      "Multi Point Fuel Injection               9\n",
      "PGM-FI (Programmed Fuel Injection)       9\n",
      "MPFI+LPG                                 6\n",
      "GDI                                      5\n",
      "Common Rail Direct Injection (dCi)       4\n",
      "Gasoline Direct Injection                3\n",
      "DEDST                                    2\n",
      "MPFI+CNG                                 2\n",
      "Mpfi                                     2\n",
      "CNG                                      2\n",
      "gasoline direct injection                1\n",
      "Multi point Fuel Injection               1\n",
      "Intelligent-Gas Port Injection           1\n",
      "Dual VVT-i                               1\n",
      "Electronic Fuel Injection                1\n",
      "Direct Injectio                          1\n",
      "Name: count, dtype: int64\n",
      "['MPFi' 'Direct Injection' 'CRDI' 'GDi' 'MPFI' 'PGM - Fi'\n",
      " 'Direct Injection ' nan 'PGM-Fi' 'Multi Point Fuel Injection' 'MPFI+LPG'\n",
      " 'CRDi' 'Common Rail Direct Injection (dCi)' 'CDI'\n",
      " 'EFI(Electronic Fuel Injection)' 'MPFI ' 'Electronic Fuel Injection'\n",
      " 'TSI' 'Multi point Fuel Injection' 'MPI' 'Gasoline Direct Injection'\n",
      " 'MPi' 'Common Rail' 'SEFI' 'Dual VVT-i'\n",
      " 'PGM-FI (Programmed Fuel Injection)' 'EFI (Electronic Fuel Injection)'\n",
      " 'GDI' 'Mpfi' 'Intelligent-Gas Port Injection' 'DEDST' 'CNG'\n",
      " 'gasoline direct injection' 'MPFI+CNG' 'Direct Injectio']\n",
      "34\n",
      "1102\n"
     ]
    }
   ],
   "source": [
    "print(df_cars_zscore_outlier['Fuel Suppy System'].value_counts())\n",
    "print(df_cars_zscore_outlier['Fuel Suppy System'].unique())\n",
    "print(df_cars_zscore_outlier['Fuel Suppy System'].nunique())\n",
    "print(df_cars_zscore_outlier['Fuel Suppy System'].isna().sum())"
   ]
  },
  {
   "cell_type": "markdown",
   "id": "a18a6cd4-e4a9-4ce8-803a-ae249a3b3b04",
   "metadata": {},
   "source": [
    "#### We can use transmission and fuel type instead of fuel supply system"
   ]
  },
  {
   "cell_type": "code",
   "execution_count": 52,
   "id": "e7e18b1d-a0b3-4f11-8962-bff42e2dfbe1",
   "metadata": {},
   "outputs": [],
   "source": [
    "df_cars_zscore_outlier.drop('Fuel Suppy System',axis=1,inplace= True)"
   ]
  },
  {
   "cell_type": "markdown",
   "id": "5d582248-8e71-432d-993b-4b7b10d9b35d",
   "metadata": {},
   "source": [
    "## Turbo charger and Super Charge"
   ]
  },
  {
   "cell_type": "code",
   "execution_count": 53,
   "id": "40d818b4-aa55-41b5-9275-247a3a3adfe8",
   "metadata": {},
   "outputs": [
    {
     "name": "stdout",
     "output_type": "stream",
     "text": [
      "Turbo Charger\n",
      "No     3475\n",
      "Yes    1548\n",
      "NO       20\n",
      "yes       1\n",
      "Name: count, dtype: int64\n",
      "['No' 'Yes' 'NO' nan 'yes']\n",
      "4\n",
      "778\n",
      "\n",
      " Super Charger\n",
      "No    4635\n",
      "Name: count, dtype: int64\n",
      "['No' nan]\n",
      "1\n",
      "1187\n"
     ]
    }
   ],
   "source": [
    "print(df_cars_zscore_outlier['Turbo Charger'].value_counts())\n",
    "print(df_cars_zscore_outlier['Turbo Charger'].unique())\n",
    "print(df_cars_zscore_outlier['Turbo Charger'].nunique())\n",
    "print(df_cars_zscore_outlier['Turbo Charger'].isna().sum())\n",
    "print('\\n',df_cars_zscore_outlier['Super Charger'].value_counts())\n",
    "print(df_cars_zscore_outlier['Super Charger'].unique())\n",
    "print(df_cars_zscore_outlier['Super Charger'].nunique())\n",
    "print(df_cars_zscore_outlier['Super Charger'].isna().sum())"
   ]
  },
  {
   "cell_type": "code",
   "execution_count": 54,
   "id": "e49f66cc-13ce-4752-a9e6-82e9dd706890",
   "metadata": {},
   "outputs": [
    {
     "name": "stdout",
     "output_type": "stream",
     "text": [
      "Turbo Charger\n",
      "False    4273\n",
      "True     1549\n",
      "Name: count, dtype: int64\n",
      "[False  True]\n",
      "2\n",
      "0\n",
      "bool\n"
     ]
    },
    {
     "name": "stderr",
     "output_type": "stream",
     "text": [
      "C:\\Users\\Siva\\AppData\\Local\\Temp\\ipykernel_31216\\493925833.py:13: FutureWarning: Downcasting object dtype arrays on .fillna, .ffill, .bfill is deprecated and will change in a future version. Call result.infer_objects(copy=False) instead. To opt-in to the future behavior, set `pd.set_option('future.no_silent_downcasting', True)`\n",
      "  df_cars_zscore_outlier['Turbo Charger'] = df_cars_zscore_outlier['Turbo Charger'].map(mapping).fillna(False)\n"
     ]
    }
   ],
   "source": [
    "mapping = {\n",
    "    'No':False,\n",
    "    'NO':False,\n",
    "    'no':False,\n",
    "    None:False,\n",
    "\n",
    "    'Yes':True,\n",
    "    'YES':True,\n",
    "    'yes':True,\n",
    "    'Turbo':True,\n",
    "    'Twin':True,\n",
    "}\n",
    "df_cars_zscore_outlier['Turbo Charger'] = df_cars_zscore_outlier['Turbo Charger'].map(mapping).fillna(False)\n",
    "\n",
    "print(df_cars_zscore_outlier['Turbo Charger'].value_counts())\n",
    "print(df_cars_zscore_outlier['Turbo Charger'].unique())\n",
    "print(df_cars_zscore_outlier['Turbo Charger'].nunique())\n",
    "print(df_cars_zscore_outlier['Turbo Charger'].isna().sum())\n",
    "print(df_cars_zscore_outlier['Turbo Charger'].dtype)\n",
    "\n"
   ]
  },
  {
   "cell_type": "code",
   "execution_count": 55,
   "id": "583e766e-ff0b-4c9e-a0bb-e1e98f416241",
   "metadata": {},
   "outputs": [
    {
     "name": "stdout",
     "output_type": "stream",
     "text": [
      "Super Charger\n",
      "False    5822\n",
      "Name: count, dtype: int64\n",
      "[False]\n",
      "1\n",
      "0\n",
      "bool\n"
     ]
    },
    {
     "name": "stderr",
     "output_type": "stream",
     "text": [
      "C:\\Users\\Siva\\AppData\\Local\\Temp\\ipykernel_31216\\1354746950.py:9: FutureWarning: Downcasting object dtype arrays on .fillna, .ffill, .bfill is deprecated and will change in a future version. Call result.infer_objects(copy=False) instead. To opt-in to the future behavior, set `pd.set_option('future.no_silent_downcasting', True)`\n",
      "  df_cars_zscore_outlier['Super Charger'] = df_cars_zscore_outlier['Super Charger'].map(mapping).fillna(False)\n"
     ]
    }
   ],
   "source": [
    "mapping = {\n",
    "    'No':False,\n",
    "    'NO':False,\n",
    "    'no':False,\n",
    "\n",
    "    'Yes':True,\n",
    "    \n",
    "}\n",
    "df_cars_zscore_outlier['Super Charger'] = df_cars_zscore_outlier['Super Charger'].map(mapping).fillna(False)\n",
    "\n",
    "print(df_cars_zscore_outlier['Super Charger'].value_counts())\n",
    "print(df_cars_zscore_outlier['Super Charger'].unique())\n",
    "print(df_cars_zscore_outlier['Super Charger'].nunique())\n",
    "print(df_cars_zscore_outlier['Super Charger'].isna().sum())\n",
    "print(df_cars_zscore_outlier['Super Charger'].dtype)\n",
    "\n"
   ]
  },
  {
   "cell_type": "code",
   "execution_count": 56,
   "id": "9da78cf7-0683-422b-aa6e-cd0b641e8eff",
   "metadata": {},
   "outputs": [],
   "source": [
    "##Can drop Super Charger as there is huge discrepenc\n",
    "df_cars_zscore_outlier.drop('Super Charger',axis=1,inplace= True)"
   ]
  },
  {
   "cell_type": "code",
   "execution_count": 57,
   "id": "3c0fbd61-7cd4-4634-ad0f-cd11e196ca3b",
   "metadata": {},
   "outputs": [
    {
     "data": {
      "image/png": "[encoded data removed]",
      "text/plain": [
       "<Figure size 1200x800 with 1 Axes>"
      ]
     },
     "metadata": {},
     "output_type": "display_data"
    }
   ],
   "source": [
    "plt.figure(figsize=(12, 8))\n",
    "average_prices = df_cars_zscore_outlier.groupby('Turbo Charger')['price'].mean().sort_values()\n",
    "average_prices.plot(kind='bar', color='skyblue')\n",
    "plt.xticks(rotation=90)\n",
    "plt.title('Average Price by Turbo Charger Type')\n",
    "plt.xlabel('Turbo Charger')\n",
    "plt.ylabel('Average Price')\n",
    "plt.show()\n"
   ]
  },
  {
   "cell_type": "markdown",
   "id": "23e930a9-e93e-472b-9ba1-ccb4df161340",
   "metadata": {},
   "source": [
    "### can keep this column as there is a resonable difference "
   ]
  },
  {
   "cell_type": "markdown",
   "id": "47df35cb-1916-4a41-8c60-1fa3c3b063fc",
   "metadata": {},
   "source": [
    "## Gear Box column"
   ]
  },
  {
   "cell_type": "code",
   "execution_count": 58,
   "id": "c17fc8e5-109a-4acf-a2f3-2859170c1b24",
   "metadata": {},
   "outputs": [
    {
     "name": "stdout",
     "output_type": "stream",
     "text": [
      "Gear Box\n",
      "5 Speed                                   3579\n",
      "6 Speed                                    702\n",
      "5-Speed                                    397\n",
      "5 Speed                                    151\n",
      "CVT                                        137\n",
      "6-Speed                                    125\n",
      "6 Speed                                    108\n",
      "4 Speed                                    103\n",
      "7 Speed                                     91\n",
      "5                                           84\n",
      "5 Speed CVT                                 43\n",
      "5 speed                                     35\n",
      "6-speed                                     31\n",
      "9 Speed                                     30\n",
      "7-Speed DCT                                 24\n",
      "7 Speed DCT                                 16\n",
      "7-Speed                                     15\n",
      "4 Speed                                     11\n",
      "6 Speed IMT                                 10\n",
      "AGS                                          9\n",
      "4-Speed                                      9\n",
      "IVT                                          8\n",
      "7-speed DCT                                  8\n",
      "6-Speed iMT                                  7\n",
      "8-Speed                                      6\n",
      "6-speed IVT                                  6\n",
      "5-Speed`                                     6\n",
      "5-speed                                      6\n",
      "6-Speed IMT                                  6\n",
      "Five Speed Manual Transmission               5\n",
      "5 Speed AT+ Paddle Shifters                  5\n",
      "Five Speed Manual Transmission Gearbox       4\n",
      "6-Speed DCT                                  4\n",
      "iMT                                          4\n",
      "7 Speed DSG                                  3\n",
      "6 Speed IVT                                  3\n",
      "6-Speed IVT                                  3\n",
      "6-speed iMT                                  1\n",
      "5 Speed Manual (Cable Type Gear Shift)       1\n",
      "8-speed                                      1\n",
      "Six Speed Automatic Transmission             1\n",
      "Name: count, dtype: int64\n",
      "41\n",
      "['5 Speed ' '5 Speed' '6 Speed' '7-Speed' '4 Speed' '6 Speed ' '5-Speed'\n",
      " '9 Speed' '6-Speed' '7-Speed DCT' '5' '6 Speed IMT' '7 Speed' 'CVT'\n",
      " '7-speed DCT' '7 Speed DCT' '8-Speed' '5-speed' '5 speed' '5 Speed CVT'\n",
      " '6-Speed DCT' '6-speed' '5-Speed`' '6-Speed IVT' '6 Speed IVT' nan 'IVT'\n",
      " 'Five Speed Manual Transmission' '5 Speed AT+ Paddle Shifters'\n",
      " '6-Speed iMT' 'iMT' '4-Speed' '6-Speed IMT' 'AGS' '7 Speed DSG'\n",
      " '4 Speed ' '6-speed IVT' 'Five Speed Manual Transmission Gearbox'\n",
      " '6-speed iMT' '5 Speed Manual (Cable Type Gear Shift)' '8-speed'\n",
      " 'Six Speed Automatic Transmission']\n",
      "24\n"
     ]
    }
   ],
   "source": [
    "print(df_cars_zscore_outlier['Gear Box'].value_counts())\n",
    "print(df_cars_zscore_outlier['Gear Box'].nunique())\n",
    "print(df_cars_zscore_outlier['Gear Box'].unique())\n",
    "print(df_cars_zscore_outlier['Gear Box'].isna().sum())"
   ]
  },
  {
   "cell_type": "markdown",
   "id": "f58484e9-b650-417e-8d14-06beb3d845c9",
   "metadata": {},
   "source": [
    "### We can use the automatic and manual for our calculation instead of gearbox"
   ]
  },
  {
   "cell_type": "code",
   "execution_count": 59,
   "id": "b266024a-6ce9-4920-b0da-abef48610ce1",
   "metadata": {},
   "outputs": [],
   "source": [
    "df_cars_zscore_outlier.drop('Gear Box',axis=1,inplace= True)"
   ]
  },
  {
   "cell_type": "markdown",
   "id": "bd04ea36-975a-4528-852e-ffeb43b7ca65",
   "metadata": {},
   "source": [
    "## Drive Type Column"
   ]
  },
  {
   "cell_type": "code",
   "execution_count": 60,
   "id": "ab7fb75d-5603-4c1f-aa2b-c58d69379255",
   "metadata": {},
   "outputs": [
    {
     "name": "stdout",
     "output_type": "stream",
     "text": [
      "Drive Type\n",
      "Front-Wheel Drive (FWD)    4574\n",
      "Undefined                   984\n",
      "Rear-Wheel Drive (RWD)      122\n",
      "Two-Wheel Drive (2WD)        93\n",
      "All-Wheel Drive (AWD)        30\n",
      "Four-Wheel Drive (4WD)       19\n",
      "Name: count, dtype: int64\n",
      "0\n"
     ]
    }
   ],
   "source": [
    "df_cars_zscore_outlier['Drive Type'] = df_cars_zscore_outlier['Drive Type'].replace({\n",
    "    # Front-Wheel Drive\n",
    "    'FWD': 'Front-Wheel Drive (FWD)',\n",
    "    'FWD ': 'Front-Wheel Drive (FWD)',\n",
    "    'Front Wheel Drive': 'Front-Wheel Drive (FWD)',\n",
    "    \n",
    "    # Rear-Wheel Drive\n",
    "    'RWD': 'Rear-Wheel Drive (RWD)',\n",
    "    'Rear Wheel Drive with ESP': 'Rear-Wheel Drive (RWD)',\n",
    "    'RWD(with MTT)': 'Rear-Wheel Drive (RWD)',\n",
    "    \n",
    "    # All-Wheel Drive\n",
    "    'AWD': 'All-Wheel Drive (AWD)',\n",
    "    'All Wheel Drive': 'All-Wheel Drive (AWD)',\n",
    "    'Permanent all-wheel drive quattro': 'All-Wheel Drive (AWD)',\n",
    "    'AWD INTEGRATED MANAGEMENT': 'All-Wheel Drive (AWD)',\n",
    "    \n",
    "    # Four-Wheel Drive\n",
    "    '4WD': 'Four-Wheel Drive (4WD)',\n",
    "    '4 WD': 'Four-Wheel Drive (4WD)',\n",
    "    '4X4': 'Four-Wheel Drive (4WD)',\n",
    "    '4x4': 'Four-Wheel Drive (4WD)',\n",
    "    \n",
    "    # Two-Wheel Drive\n",
    "    '2WD': 'Front-Wheel Drive (FWD)',\n",
    "    '2WD ': 'Front-Wheel Drive (FWD)',\n",
    "    '2 WD': 'Front-Wheel Drive (FWD)',\n",
    "    '4X2': 'Two-Wheel Drive (2WD)',\n",
    "    '4x2': 'Two-Wheel Drive (2WD)',\n",
    "    'Two Wheel Drive': 'Two-Wheel Drive (2WD)',\n",
    "    \n",
    "   })\n",
    "\n",
    "df_cars_zscore_outlier['Drive Type']=df_cars_zscore_outlier['Drive Type'].fillna('Undefined')\n",
    "print(df_cars_zscore_outlier['Drive Type'].value_counts())\n",
    "print(df_cars_zscore_outlier['Drive Type'].isna().sum())"
   ]
  },
  {
   "cell_type": "code",
   "execution_count": 61,
   "id": "1e28e5d3-4282-455c-beda-0187fb48b656",
   "metadata": {},
   "outputs": [],
   "source": [
    "#Can look to drop this as majority is FWD with undefined next\n",
    "df_cars_zscore_outlier.drop('Drive Type',axis=1,inplace= True)"
   ]
  },
  {
   "cell_type": "markdown",
   "id": "cf9cf082-0ab8-4be7-839b-422caaa8b878",
   "metadata": {},
   "source": [
    "## Steering Type Column"
   ]
  },
  {
   "cell_type": "code",
   "execution_count": 62,
   "id": "22432ce8-e065-4068-bdd9-2ac172720673",
   "metadata": {},
   "outputs": [
    {
     "name": "stdout",
     "output_type": "stream",
     "text": [
      "Steering Type\n",
      "Power         4443\n",
      "Electric      1065\n",
      "Electronic      43\n",
      "Electrical      40\n",
      "power           29\n",
      "Manual          29\n",
      "EPAS             9\n",
      "Name: count, dtype: int64\n",
      "7\n",
      "['Power' 'power' 'Electric' nan 'EPAS' 'Electrical' 'Electronic' 'Manual']\n",
      "164\n"
     ]
    }
   ],
   "source": [
    "print(df_cars_zscore_outlier['Steering Type'].value_counts())\n",
    "print(df_cars_zscore_outlier['Steering Type'].nunique())\n",
    "print(df_cars_zscore_outlier['Steering Type'].unique())\n",
    "print(df_cars_zscore_outlier['Steering Type'].isna().sum())\n"
   ]
  },
  {
   "cell_type": "code",
   "execution_count": 63,
   "id": "cf14c3b4-160c-4172-8cd0-1ff8951d00af",
   "metadata": {},
   "outputs": [
    {
     "name": "stdout",
     "output_type": "stream",
     "text": [
      "Steering Type\n",
      "Power     5629\n",
      "Manual      29\n",
      "Name: count, dtype: int64\n"
     ]
    }
   ],
   "source": [
    "df_cars_zscore_outlier['Steering Type'] = df_cars_zscore_outlier['Steering Type'].replace({\n",
    "    # Combined Power Systems\n",
    "    'Power': 'Power',\n",
    "    'power': 'Power',\n",
    "    'Electric': 'Power',\n",
    "    'electric': 'Power',\n",
    "    'Electronic': 'Power', \n",
    "    'Electrical': 'Power', \n",
    "    'EPAS': 'Power',\n",
    "    # Specific Steering Types\n",
    "    'Manual': 'Manual',\n",
    "    \n",
    "})\n",
    "print(df_cars_zscore_outlier['Steering Type'].value_counts())\n"
   ]
  },
  {
   "cell_type": "code",
   "execution_count": 64,
   "id": "0ec94dc0-4cfa-4b15-a70c-61070b18197b",
   "metadata": {},
   "outputs": [],
   "source": [
    "## can drop this too since Power is extremely manjor among them\n",
    "df_cars_zscore_outlier.drop('Steering Type',axis=1,inplace= True)"
   ]
  },
  {
   "cell_type": "markdown",
   "id": "9f442e82-2a8e-47c7-b4fd-686fe22df926",
   "metadata": {},
   "source": [
    "### Front Brake and rear brake Type Column"
   ]
  },
  {
   "cell_type": "code",
   "execution_count": 65,
   "id": "b294b9ab-962b-49ce-a8fd-f99cb6aadd56",
   "metadata": {},
   "outputs": [
    {
     "name": "stdout",
     "output_type": "stream",
     "text": [
      "Front Brake Type\n",
      "Disc                   3820\n",
      "Ventilated Disc        1726\n",
      "Disc                     67\n",
      "Solid Disc               63\n",
      "Disc & Caliper Type      40\n",
      "Ventilated Discs         32\n",
      "Disk                     23\n",
      "Ventilated Disc          10\n",
      "Ventilated Disk          10\n",
      "Ventlated Disc            6\n",
      "Vantilated Disc           5\n",
      "ABS                       1\n",
      "Ventilated disc           1\n",
      "Name: count, dtype: int64\n",
      "13\n",
      "['Ventilated Disc' 'Disc' 'Disc ' 'Disc & Caliper Type' 'Ventilated Discs'\n",
      " 'Ventilated Disc ' nan 'Solid Disc' 'Disk' 'Ventilated Disk'\n",
      " 'Vantilated Disc' 'ABS' 'Ventlated Disc' 'Ventilated disc']\n",
      "\n",
      " Rear Brake Type\n",
      "Drum                     5256\n",
      "Disc                      375\n",
      "Discs                      82\n",
      "Disc & Caliper Type        40\n",
      "Solid Disc                 21\n",
      "Leading-Trailing Drum      17\n",
      "Disc & Drum                 7\n",
      "Drum                        6\n",
      "Name: count, dtype: int64\n",
      "8\n",
      "['Drum' 'Discs' 'Disc & Caliper Type' 'Disc' 'Leading-Trailing Drum' nan\n",
      " 'Solid Disc' 'Disc & Drum' 'Drum ']\n"
     ]
    }
   ],
   "source": [
    "print(df_cars_zscore_outlier['Front Brake Type'].value_counts())\n",
    "print(df_cars_zscore_outlier['Front Brake Type'].nunique())\n",
    "print(df_cars_zscore_outlier['Front Brake Type'].unique())\n",
    "print('\\n',df_cars_zscore_outlier['Rear Brake Type'].value_counts())\n",
    "print(df_cars_zscore_outlier['Rear Brake Type'].nunique())\n",
    "print(df_cars_zscore_outlier['Rear Brake Type'].unique())"
   ]
  },
  {
   "cell_type": "markdown",
   "id": "2b23974f-6e91-4ce4-9be9-a97c9dbc9ada",
   "metadata": {},
   "source": [
    "### Given that we have only a small number of instances for Drum (4) and ABS (1), and the rest are predominantly Disc (over 90%), it might be reasonable to consider dropping this column. The small number of instances for Drum and ABS suggests that they may not provide significant predictive power for your model. For the rear brake type, there is considered difference of occurence between drum and disc which may not be producing much effectiveness for our model"
   ]
  },
  {
   "cell_type": "code",
   "execution_count": 66,
   "id": "c62839d3-d2e9-4b32-965d-09a73e964e91",
   "metadata": {},
   "outputs": [],
   "source": [
    "df_cars_zscore_outlier.drop(['Front Brake Type','Rear Brake Type'],axis=1,inplace= True)"
   ]
  },
  {
   "cell_type": "markdown",
   "id": "c8e7f9a6-6392-456d-87d1-4f37cf5ca93a",
   "metadata": {},
   "source": [
    "### Tyre Type Column"
   ]
  },
  {
   "cell_type": "code",
   "execution_count": 67,
   "id": "ba1e91c5-948a-4686-81b6-c99dd36f62ed",
   "metadata": {},
   "outputs": [
    {
     "name": "stdout",
     "output_type": "stream",
     "text": [
      "Tyre Type\n",
      "Tubeless,Radial           2805\n",
      "Tubeless, Radial          1046\n",
      "Tubeless                  1028\n",
      "Tubeless Tyres             371\n",
      "Radial, Tubeless           179\n",
      "Radial                     106\n",
      "Radial, Tubless             82\n",
      "Tubeless Tyres, Radial      54\n",
      "Tubeless Radial Tyres       50\n",
      "Tubeless,Radial             43\n",
      "tubeless tyre               14\n",
      "Radial,Tubeless              5\n",
      "Radial Tubeless              4\n",
      "Tubeless Tyre                2\n",
      "Name: count, dtype: int64\n",
      "14\n",
      "['Tubeless, Radial' 'Tubeless,Radial' 'Tubeless' 'Radial, Tubless'\n",
      " 'Radial' 'Tubeless,Radial ' 'Radial, Tubeless' 'Tubeless Radial Tyres'\n",
      " 'Tubeless Tyres' 'Radial,Tubeless' nan 'Tubeless Tyres, Radial'\n",
      " 'Radial Tubeless' 'tubeless tyre' 'Tubeless Tyre']\n"
     ]
    }
   ],
   "source": [
    "print(df_cars_zscore_outlier['Tyre Type'].value_counts())\n",
    "print(df_cars_zscore_outlier['Tyre Type'].nunique())\n",
    "print(df_cars_zscore_outlier['Tyre Type'].unique())"
   ]
  },
  {
   "cell_type": "code",
   "execution_count": 68,
   "id": "913eef37-115d-4106-bd8e-9a5fca6eb6aa",
   "metadata": {},
   "outputs": [],
   "source": [
    "## can drop this since most of the values are only tubless, radials\n",
    "\n",
    "df_cars_zscore_outlier.drop('Tyre Type',axis=1,inplace= True)"
   ]
  },
  {
   "cell_type": "code",
   "execution_count": 69,
   "id": "78b4b3a8-850a-4f58-9350-c57d9e24bde5",
   "metadata": {},
   "outputs": [
    {
     "data": {
      "text/html": [
       "<div>\n",
       "<style scoped>\n",
       "    .dataframe tbody tr th:only-of-type {\n",
       "        vertical-align: middle;\n",
       "    }\n",
       "\n",
       "    .dataframe tbody tr th {\n",
       "        vertical-align: top;\n",
       "    }\n",
       "\n",
       "    .dataframe thead th {\n",
       "        text-align: right;\n",
       "    }\n",
       "</style>\n",
       "<table border=\"1\" class=\"dataframe\">\n",
       "  <thead>\n",
       "    <tr style=\"text-align: right;\">\n",
       "      <th></th>\n",
       "      <th>ft</th>\n",
       "      <th>km</th>\n",
       "      <th>transmission</th>\n",
       "      <th>oem</th>\n",
       "      <th>model</th>\n",
       "      <th>modelYear</th>\n",
       "      <th>price</th>\n",
       "      <th>Insurance Validity</th>\n",
       "      <th>Color</th>\n",
       "      <th>Displacement</th>\n",
       "      <th>Turbo Charger</th>\n",
       "      <th>Location</th>\n",
       "      <th>RTO_grouped</th>\n",
       "    </tr>\n",
       "  </thead>\n",
       "  <tbody>\n",
       "    <tr>\n",
       "      <th>0</th>\n",
       "      <td>Petrol</td>\n",
       "      <td>120000.0</td>\n",
       "      <td>Manual</td>\n",
       "      <td>Maruti</td>\n",
       "      <td>Maruti Celerio</td>\n",
       "      <td>2015</td>\n",
       "      <td>400000.0</td>\n",
       "      <td>Third Party</td>\n",
       "      <td>White</td>\n",
       "      <td>998.0</td>\n",
       "      <td>False</td>\n",
       "      <td>Bangalore</td>\n",
       "      <td>Karnataka</td>\n",
       "    </tr>\n",
       "    <tr>\n",
       "      <th>1</th>\n",
       "      <td>Petrol</td>\n",
       "      <td>32706.0</td>\n",
       "      <td>Manual</td>\n",
       "      <td>Ford</td>\n",
       "      <td>Ford Ecosport</td>\n",
       "      <td>2018</td>\n",
       "      <td>811000.0</td>\n",
       "      <td>Comprehensive</td>\n",
       "      <td>White</td>\n",
       "      <td>1497.0</td>\n",
       "      <td>False</td>\n",
       "      <td>Bangalore</td>\n",
       "      <td>Karnataka</td>\n",
       "    </tr>\n",
       "    <tr>\n",
       "      <th>2</th>\n",
       "      <td>Petrol</td>\n",
       "      <td>11949.0</td>\n",
       "      <td>Manual</td>\n",
       "      <td>Tata</td>\n",
       "      <td>Tata Tiago</td>\n",
       "      <td>2018</td>\n",
       "      <td>585000.0</td>\n",
       "      <td>Comprehensive</td>\n",
       "      <td>Red</td>\n",
       "      <td>1199.0</td>\n",
       "      <td>False</td>\n",
       "      <td>Bangalore</td>\n",
       "      <td>Karnataka</td>\n",
       "    </tr>\n",
       "    <tr>\n",
       "      <th>3</th>\n",
       "      <td>Petrol</td>\n",
       "      <td>17794.0</td>\n",
       "      <td>Manual</td>\n",
       "      <td>Hyundai</td>\n",
       "      <td>Hyundai Xcent</td>\n",
       "      <td>2014</td>\n",
       "      <td>462000.0</td>\n",
       "      <td>Comprehensive</td>\n",
       "      <td>Other</td>\n",
       "      <td>1197.0</td>\n",
       "      <td>False</td>\n",
       "      <td>Bangalore</td>\n",
       "      <td>Karnataka</td>\n",
       "    </tr>\n",
       "    <tr>\n",
       "      <th>5</th>\n",
       "      <td>Diesel</td>\n",
       "      <td>20000.0</td>\n",
       "      <td>Manual</td>\n",
       "      <td>Jeep</td>\n",
       "      <td>Jeep Compass</td>\n",
       "      <td>2020</td>\n",
       "      <td>1900000.0</td>\n",
       "      <td>Third Party</td>\n",
       "      <td>Other</td>\n",
       "      <td>1956.0</td>\n",
       "      <td>True</td>\n",
       "      <td>Bangalore</td>\n",
       "      <td>Karnataka</td>\n",
       "    </tr>\n",
       "  </tbody>\n",
       "</table>\n",
       "</div>"
      ],
      "text/plain": [
       "       ft        km transmission      oem           model  modelYear  \\\n",
       "0  Petrol  120000.0       Manual   Maruti  Maruti Celerio       2015   \n",
       "1  Petrol   32706.0       Manual     Ford   Ford Ecosport       2018   \n",
       "2  Petrol   11949.0       Manual     Tata      Tata Tiago       2018   \n",
       "3  Petrol   17794.0       Manual  Hyundai   Hyundai Xcent       2014   \n",
       "5  Diesel   20000.0       Manual     Jeep    Jeep Compass       2020   \n",
       "\n",
       "       price Insurance Validity  Color  Displacement  Turbo Charger  \\\n",
       "0   400000.0        Third Party  White         998.0          False   \n",
       "1   811000.0      Comprehensive  White        1497.0          False   \n",
       "2   585000.0      Comprehensive    Red        1199.0          False   \n",
       "3   462000.0      Comprehensive  Other        1197.0          False   \n",
       "5  1900000.0        Third Party  Other        1956.0           True   \n",
       "\n",
       "    Location RTO_grouped  \n",
       "0  Bangalore   Karnataka  \n",
       "1  Bangalore   Karnataka  \n",
       "2  Bangalore   Karnataka  \n",
       "3  Bangalore   Karnataka  \n",
       "5  Bangalore   Karnataka  "
      ]
     },
     "execution_count": 69,
     "metadata": {},
     "output_type": "execute_result"
    }
   ],
   "source": [
    "df_cars_zscore_outlier.head()"
   ]
  },
  {
   "cell_type": "code",
   "execution_count": 70,
   "id": "f547a438-61f5-426c-83ae-ff2e25ede0c9",
   "metadata": {},
   "outputs": [],
   "source": [
    "## saving this file as an excel for further use\n",
    "\n",
    "df_cars_zscore_outlier.to_excel('all_cities_cars_cleaned.xlsx', index=False)\n"
   ]
  },
  {
   "cell_type": "markdown",
   "id": "e3401145-2ee6-4287-9b9d-f5bf1841b3e9",
   "metadata": {},
   "source": [
    "## 4. Model Training "
   ]
  },
  {
   "cell_type": "code",
   "execution_count": 71,
   "id": "d7f62521-02ed-4ef1-8085-de757d174c2b",
   "metadata": {},
   "outputs": [
    {
     "name": "stdout",
     "output_type": "stream",
     "text": [
      "Training feature set shape: (4657, 101)\n",
      "Testing feature set shape: (1165, 101)\n"
     ]
    }
   ],
   "source": [
    "import pandas as pd\n",
    "from sklearn.model_selection import train_test_split\n",
    "from sklearn.linear_model import LinearRegression\n",
    "from sklearn.tree import DecisionTreeRegressor\n",
    "from sklearn.ensemble import RandomForestRegressor\n",
    "from xgboost import XGBRegressor\n",
    "from sklearn.metrics import mean_squared_error, mean_absolute_error, r2_score, mean_absolute_percentage_error\n",
    "\n",
    "\n",
    "df_cars_final = pd.read_excel('all_cities_cars_cleaned.xlsx')\n",
    "\n",
    "categorical_features = df_cars_final.select_dtypes(include=['object']).columns\n",
    "numerical_features = df_cars_final.select_dtypes(include=['number']).columns\n",
    "\n",
    "# Separate the target variable\n",
    "X = df_cars_final.drop('price', axis=1)\n",
    "y = df_cars_final['price']\n",
    "\n",
    "# Apply one-hot encoding to categorical features\n",
    "X_encoded = pd.get_dummies(X, columns=categorical_features, drop_first=True)\n",
    "\n",
    "# The numerical columns are automatically included as they are\n",
    "\n",
    "# Split the data into training and testing sets\n",
    "X_train, X_test, y_train, y_test = train_test_split(X_encoded, y, test_size=0.2, random_state=42)\n",
    "\n",
    "print(f\"Training feature set shape: {X_train.shape}\")\n",
    "print(f\"Testing feature set shape: {X_test.shape}\")\n"
   ]
  },
  {
   "cell_type": "code",
   "execution_count": 72,
   "id": "91133895-6641-49f5-bf46-df8ae486437c",
   "metadata": {},
   "outputs": [
    {
     "name": "stdout",
     "output_type": "stream",
     "text": [
      "                      MSE_train     MAE_train  R2_train  MAPE_train  \\\n",
      "Linear Regression  2.295161e+10  87901.635144  0.865656   17.568229   \n",
      "Decision Tree      2.584969e+07    391.954763  0.999849    0.096235   \n",
      "Random Forest      1.403753e+09  24263.194586  0.991783    4.385529   \n",
      "XGBoost            1.757675e+09  30933.544515  0.989712    5.985480   \n",
      "\n",
      "                       MSE_test      MAE_test   R2_test  MAPE_test  \n",
      "Linear Regression  2.851935e+10  95204.333329  0.864272  18.694767  \n",
      "Decision Tree      1.856908e+10  82503.195708  0.911627  14.911511  \n",
      "Random Forest      1.074700e+10  64899.745346  0.948853  11.849885  \n",
      "XGBoost            1.054168e+10  63518.957098  0.949830  11.353159  \n"
     ]
    }
   ],
   "source": [
    "# Define the models\n",
    "models = {\n",
    "    'Linear Regression': LinearRegression(),\n",
    "    'Decision Tree': DecisionTreeRegressor(),\n",
    "    'Random Forest': RandomForestRegressor(),\n",
    "    'XGBoost': XGBRegressor()\n",
    "}\n",
    "\n",
    "# Store the results\n",
    "results = {}\n",
    "\n",
    "# Evaluate each model\n",
    "for model_name, model in models.items():\n",
    "    # Train the model\n",
    "    model.fit(X_train, y_train)\n",
    "    \n",
    "    # Make predictions\n",
    "    y_train_pred = model.predict(X_train)\n",
    "    y_test_pred = model.predict(X_test)\n",
    "    \n",
    "    # Calculate metrics\n",
    "    mse_train = mean_squared_error(y_train, y_train_pred)\n",
    "    mae_train = mean_absolute_error(y_train, y_train_pred)\n",
    "    r2_train = r2_score(y_train, y_train_pred)\n",
    "    mape_train = mean_absolute_percentage_error(y_train, y_train_pred) * 100\n",
    "    \n",
    "    mse_test = mean_squared_error(y_test, y_test_pred)\n",
    "    mae_test = mean_absolute_error(y_test, y_test_pred)\n",
    "    r2_test = r2_score(y_test, y_test_pred)\n",
    "    mape_test = mean_absolute_percentage_error(y_test, y_test_pred) * 100\n",
    "    \n",
    "    # Store the results\n",
    "    results[model_name] = {\n",
    "        'MSE_train': mse_train,\n",
    "        'MAE_train': mae_train,\n",
    "        'R2_train': r2_train,\n",
    "        'MAPE_train': mape_train,\n",
    "        'MSE_test': mse_test,\n",
    "        'MAE_test':mae_test,\n",
    "        'R2_test': r2_test,\n",
    "        'MAPE_test': mape_test\n",
    "    }\n",
    "\n",
    "# Convert results to DataFrame\n",
    "results_df = pd.DataFrame(results).T\n",
    "print(results_df)\n"
   ]
  },
  {
   "cell_type": "markdown",
   "id": "ce75c7fc-c488-4e28-b7da-2b510c0c0aa7",
   "metadata": {},
   "source": [
    "## The best models are Random Forrest and XGBoost with R2 scores as 0.9488 and 0.9498\n",
    "\n",
    "### Attempting to hypertune the parameters "
   ]
  },
  {
   "cell_type": "code",
   "execution_count": 73,
   "id": "e1ccb0ae-9266-4734-914e-028509ad148c",
   "metadata": {},
   "outputs": [
    {
     "name": "stdout",
     "output_type": "stream",
     "text": [
      "Fitting 5 folds for each of 50 candidates, totalling 250 fits\n",
      "Best Random Forest Parameters: {'n_estimators': 300, 'min_samples_split': 2, 'min_samples_leaf': 1, 'max_depth': 30}\n"
     ]
    }
   ],
   "source": [
    "# For Random Forest\n",
    "\n",
    "from sklearn.model_selection import RandomizedSearchCV\n",
    "from scipy.stats import uniform\n",
    "\n",
    "param_distributions_rf = {\n",
    "    'n_estimators': [100, 200, 300],\n",
    "    'max_depth': [10, 20, 30],\n",
    "    'min_samples_split': [2, 5, 10],\n",
    "    'min_samples_leaf': [1, 2, 4]\n",
    "}\n",
    "\n",
    "rf_model = RandomForestRegressor(random_state=42)\n",
    "rf_random_search = RandomizedSearchCV(\n",
    "    rf_model,\n",
    "    param_distributions=param_distributions_rf,\n",
    "    n_iter=50,\n",
    "    scoring='neg_mean_absolute_percentage_error',\n",
    "    cv=5,\n",
    "    n_jobs=-1,\n",
    "    verbose=1,\n",
    "    random_state=42\n",
    ")\n",
    "\n",
    "rf_random_search.fit(X_train, y_train)\n",
    "best_rf_params = rf_random_search.best_params_\n",
    "print(f\"Best Random Forest Parameters: {best_rf_params}\")\n"
   ]
  },
  {
   "cell_type": "code",
   "execution_count": 74,
   "id": "d01e5412-dd5b-4384-94c8-c62e0dcd440b",
   "metadata": {},
   "outputs": [
    {
     "name": "stdout",
     "output_type": "stream",
     "text": [
      "Fitting 5 folds for each of 50 candidates, totalling 250 fits\n",
      "Best XGBoost Parameters: {'alpha': 1, 'colsample_bytree': 0.8387821809211412, 'lambda': 0.5, 'learning_rate': 0.1, 'max_depth': 5, 'n_estimators': 300, 'subsample': 0.613247887598969}\n"
     ]
    }
   ],
   "source": [
    "# For XGBoost\n",
    "\n",
    "from sklearn.model_selection import RandomizedSearchCV\n",
    "from scipy.stats import uniform\n",
    "\n",
    "param_distributions_xgb = {\n",
    "    'n_estimators': [100, 200, 300],\n",
    "    'max_depth': [3, 4, 5],\n",
    "    'learning_rate': [0.01, 0.1, 0.2],\n",
    "    'subsample': uniform(0.5, 0.5),\n",
    "    'colsample_bytree': uniform(0.5, 0.5),\n",
    "    'alpha': [0, 0.1, 0.5, 1],\n",
    "    'lambda': [0, 0.1, 0.5, 1]\n",
    "}\n",
    "\n",
    "xgb_model = XGBRegressor(objective='reg:squarederror', random_state=42)\n",
    "xgb_random_search = RandomizedSearchCV(\n",
    "    xgb_model,\n",
    "    param_distributions=param_distributions_xgb,\n",
    "    n_iter=50,\n",
    "    scoring='neg_mean_absolute_percentage_error',\n",
    "    cv=5,\n",
    "    n_jobs=-1,\n",
    "    verbose=1,\n",
    "    random_state=42\n",
    ")\n",
    "\n",
    "xgb_random_search.fit(X_train, y_train)\n",
    "best_xgb_params = xgb_random_search.best_params_\n",
    "print(f\"Best XGBoost Parameters: {best_xgb_params}\")\n"
   ]
  },
  {
   "cell_type": "code",
   "execution_count": 75,
   "id": "82891ed5-6898-4dc0-8f1d-154614843ffd",
   "metadata": {},
   "outputs": [
    {
     "name": "stdout",
     "output_type": "stream",
     "text": [
      "Random Forest Train MSE: 1362282299.765114\n",
      "Random Forest Train R^2: 0.9920261017962848\n",
      "Random Forest Train MAPE: 4.332710053696216%\n",
      "Random Forest Test MSE: 10568033027.238714\n",
      "Random Forest Test R^2: 0.9497050010936687\n",
      "Random Forest Test MAPE: 11.820961802529514%\n"
     ]
    }
   ],
   "source": [
    "# Revaluate with the best parameters \n",
    "# Best Random Forest Parameters: \n",
    "#{'n_estimators': 300, 'min_samples_split': 2, 'min_samples_leaf': 1, 'max_depth': 30}\n",
    "\n",
    "# Initialize and train the Random Forest model with best parameters\n",
    "rf_model = RandomForestRegressor(n_estimators=300, \n",
    "                                 max_depth=30, \n",
    "                                 min_samples_split=2, \n",
    "                                 min_samples_leaf=1,\n",
    "                                 random_state=42)\n",
    "rf_model.fit(X_train, y_train)\n",
    "\n",
    "# Make predictions\n",
    "y_train_pred_rf = rf_model.predict(X_train)\n",
    "\n",
    "# Calculate metrics for the training set\n",
    "mse_train_rf = mean_squared_error(y_train, y_train_pred_rf)\n",
    "r2_train_rf = r2_score(y_train, y_train_pred_rf)\n",
    "mape_train_rf = mean_absolute_percentage_error(y_train, y_train_pred_rf) * 100\n",
    "\n",
    "# Print metrics for the training set\n",
    "print(f\"Random Forest Train MSE: {mse_train_rf}\")\n",
    "print(f\"Random Forest Train R^2: {r2_train_rf}\")\n",
    "print(f\"Random Forest Train MAPE: {mape_train_rf}%\")\n",
    "\n",
    "# Make predictions on the test set\n",
    "y_test_pred_rf = rf_model.predict(X_test)\n",
    "\n",
    "# Calculate metrics for the test set\n",
    "mse_test_rf = mean_squared_error(y_test, y_test_pred_rf)\n",
    "r2_test_rf = r2_score(y_test, y_test_pred_rf)\n",
    "mape_test_rf = mean_absolute_percentage_error(y_test, y_test_pred_rf) * 100\n",
    "\n",
    "# Print metrics for the test set\n",
    "print(f\"Random Forest Test MSE: {mse_test_rf}\")\n",
    "print(f\"Random Forest Test R^2: {r2_test_rf}\")\n",
    "print(f\"Random Forest Test MAPE: {mape_test_rf}%\")"
   ]
  },
  {
   "cell_type": "code",
   "execution_count": 76,
   "id": "22f4384a-05ad-485f-add5-71dedd1bf66f",
   "metadata": {},
   "outputs": [
    {
     "name": "stderr",
     "output_type": "stream",
     "text": [
      "c:\\Users\\Siva\\miniconda3\\Lib\\site-packages\\xgboost\\core.py:158: UserWarning: [22:03:25] WARNING: C:\\buildkite-agent\\builds\\buildkite-windows-cpu-autoscaling-group-i-0015a694724fa8361-1\\xgboost\\xgboost-ci-windows\\src\\learner.cc:740: \n",
      "Parameters: { \"lambda_\" } are not used.\n",
      "\n",
      "  warnings.warn(smsg, UserWarning)\n"
     ]
    },
    {
     "name": "stdout",
     "output_type": "stream",
     "text": [
      "XGBoost Train MSE: 2554240026.066942\n",
      "XGBoost Train R^2: 0.9850491708222119\n",
      "XGBoost Train MAPE: 7.498532200262044%\n",
      "XGBoost Test MSE: 8626519496.982498\n",
      "XGBoost Test R^2: 0.9589449817626522\n",
      "XGBoost Test MAPE: 11.018322325314733%\n"
     ]
    }
   ],
   "source": [
    "#Best XGBoost Parameters: \n",
    "#{'alpha': 1, 'colsample_bytree': 0.8329611783087483, 'lambda': 1, \n",
    "#'learning_rate': 0.1, 'max_depth': 5, 'n_estimators': 300, 'subsample': 0.7361074625809747}\n",
    "\n",
    "# Initialize and train the XGBoost model with best parameters\n",
    "xgb_model = XGBRegressor(alpha=1, \n",
    "                         colsample_bytree=0.8329611783087483, \n",
    "                         lambda_=1, \n",
    "                         learning_rate=0.1, \n",
    "                         max_depth=5, \n",
    "                         n_estimators=300, \n",
    "                         subsample=0.7361074625809747, \n",
    "                         objective='reg:squarederror',\n",
    "                         random_state=42)\n",
    "\n",
    "xgb_model.fit(X_train, y_train)\n",
    "\n",
    "\n",
    "# Make predictions\n",
    "y_train_pred_xgb = xgb_model.predict(X_train)\n",
    "\n",
    "# Calculate metrics\n",
    "mse_train_xgb = mean_squared_error(y_train, y_train_pred_xgb)\n",
    "r2_train_xgb = r2_score(y_train, y_train_pred_xgb)\n",
    "mape_train_xgb = mean_absolute_percentage_error(y_train, y_train_pred_xgb) * 100\n",
    "\n",
    "print(f\"XGBoost Train MSE: {mse_train_xgb}\")\n",
    "print(f\"XGBoost Train R^2: {r2_train_xgb}\")\n",
    "print(f\"XGBoost Train MAPE: {mape_train_xgb}%\")\n",
    "\n",
    "# Make predictions\n",
    "y_test_pred_xgb = xgb_model.predict(X_test)\n",
    "\n",
    "# Calculate metrics\n",
    "mse_test_xgb = mean_squared_error(y_test, y_test_pred_xgb)\n",
    "r2_test_xgb = r2_score(y_test, y_test_pred_xgb)\n",
    "mape_test_xgb = mean_absolute_percentage_error(y_test, y_test_pred_xgb) * 100\n",
    "\n",
    "print(f\"XGBoost Test MSE: {mse_test_xgb}\")\n",
    "print(f\"XGBoost Test R^2: {r2_test_xgb}\")\n",
    "print(f\"XGBoost Test MAPE: {mape_test_xgb}%\")\n"
   ]
  },
  {
   "cell_type": "markdown",
   "id": "9d071ea2-0051-42cf-bd8b-26f14672f091",
   "metadata": {},
   "source": [
    "### XGBoost Performs the best after best parameters fit  with R2 score of 0.958"
   ]
  },
  {
   "cell_type": "markdown",
   "id": "13701614-62ed-458f-89f7-1eec85b65135",
   "metadata": {},
   "source": [
    "## Before finalizing let us utilize Lasso and Ridge regularization to our model to see if performance metrics is better"
   ]
  },
  {
   "cell_type": "code",
   "execution_count": 77,
   "id": "f714522c-7caa-4cab-b5ff-067ab141ee9c",
   "metadata": {},
   "outputs": [
    {
     "name": "stdout",
     "output_type": "stream",
     "text": [
      "                     MSE_train     MAE_train  R2_train  MAPE_train  \\\n",
      "Ridge Regression  2.319858e+10  89019.763404  0.864211   17.813309   \n",
      "Lasso Regression  2.295172e+10  87907.408342  0.865656   17.569562   \n",
      "\n",
      "                      MSE_test      MAE_test   R2_test  MAPE_test  \n",
      "Ridge Regression  2.909239e+10  96268.468197  0.861545  18.958830  \n",
      "Lasso Regression  2.852785e+10  95210.895093  0.864231  18.695817  \n"
     ]
    },
    {
     "name": "stderr",
     "output_type": "stream",
     "text": [
      "c:\\Users\\Siva\\miniconda3\\Lib\\site-packages\\sklearn\\linear_model\\_coordinate_descent.py:697: ConvergenceWarning: Objective did not converge. You might want to increase the number of iterations, check the scale of the features or consider increasing regularisation. Duality gap: 3.363e+13, tolerance: 7.956e+10\n",
      "  model = cd_fast.enet_coordinate_descent(\n"
     ]
    }
   ],
   "source": [
    "from sklearn.linear_model import LinearRegression, Ridge, Lasso\n",
    "\n",
    "models = {\n",
    "    'Ridge Regression': Ridge(),\n",
    "    'Lasso Regression': Lasso(),\n",
    "}\n",
    "# Store the results\n",
    "results = {}\n",
    "\n",
    "# Evaluate each model\n",
    "for model_name, model in models.items():\n",
    "    # Train the model\n",
    "    model.fit(X_train, y_train)\n",
    "    \n",
    "    # Make predictions\n",
    "    y_train_pred = model.predict(X_train)\n",
    "    y_test_pred = model.predict(X_test)\n",
    "    \n",
    "    # Calculate metrics\n",
    "    mse_train = mean_squared_error(y_train, y_train_pred)\n",
    "    mae_train = mean_absolute_error(y_train, y_train_pred)\n",
    "    r2_train = r2_score(y_train, y_train_pred)\n",
    "    mape_train = mean_absolute_percentage_error(y_train, y_train_pred) * 100\n",
    "    \n",
    "    mse_test = mean_squared_error(y_test, y_test_pred)\n",
    "    mae_test = mean_absolute_error(y_test, y_test_pred)\n",
    "    r2_test = r2_score(y_test, y_test_pred)\n",
    "    mape_test = mean_absolute_percentage_error(y_test, y_test_pred) * 100\n",
    "    \n",
    "    # Store the results\n",
    "    results[model_name] = {\n",
    "        'MSE_train': mse_train,\n",
    "        'MAE_train': mae_train,\n",
    "        'R2_train': r2_train,\n",
    "        'MAPE_train': mape_train,\n",
    "        'MSE_test': mse_test,\n",
    "        'MAE_test':mae_test,\n",
    "        'R2_test': r2_test,\n",
    "        'MAPE_test': mape_test\n",
    "    }\n",
    "\n",
    "# Convert results to DataFrame\n",
    "results_df = pd.DataFrame(results).T\n",
    "print(results_df)\n"
   ]
  },
  {
   "cell_type": "markdown",
   "id": "0f8befdd-376a-4427-8991-e368339bda67",
   "metadata": {},
   "source": [
    "### Seems like XGBoost Performs the best and thus we choose that model for the application"
   ]
  },
  {
   "cell_type": "markdown",
   "id": "ca5ec5d2-1f62-4b69-ab0d-81cd7b82c055",
   "metadata": {},
   "source": [
    "# 5. Saving model"
   ]
  },
  {
   "cell_type": "code",
   "execution_count": 78,
   "id": "134ccdf2-d9d2-4ccd-bdfe-d1f469bd7f69",
   "metadata": {},
   "outputs": [
    {
     "data": {
      "text/plain": [
       "['xgboost_model.pkl']"
      ]
     },
     "execution_count": 78,
     "metadata": {},
     "output_type": "execute_result"
    }
   ],
   "source": [
    "import joblib\n",
    "\n",
    "# Save the model\n",
    "joblib.dump(xgb_model, 'xgboost_model.pkl')\n"
   ]
  },
  {
   "cell_type": "code",
   "execution_count": 79,
   "id": "5641a8ef-f39d-48ff-97ef-422db5ed6d5d",
   "metadata": {},
   "outputs": [
    {
     "data": {
      "text/plain": [
       "['encoded_columns.pkl']"
      ]
     },
     "execution_count": 79,
     "metadata": {},
     "output_type": "execute_result"
    }
   ],
   "source": [
    "# Save column names for encoding\n",
    "encoded_columns = list(X_encoded.columns)\n",
    "joblib.dump(encoded_columns, 'encoded_columns.pkl')"
   ]
  },
  {
   "cell_type": "markdown",
   "id": "98357e29-a68d-406f-8f0a-23464c0e1253",
   "metadata": {},
   "source": [
    "# 6. Saving Car brand images url for display purposes"
   ]
  },
  {
   "cell_type": "code",
   "execution_count": 80,
   "id": "686a3742-e503-4863-9501-f7516b6aa497",
   "metadata": {},
   "outputs": [],
   "source": [
    "import pandas as pd\n",
    "df_cars_final = pd.read_excel('all_cities_cars_cleaned.xlsx')\n"
   ]
  },
  {
   "cell_type": "code",
   "execution_count": 81,
   "id": "7514792a-7aa9-4426-ae3e-a9f87fbf0aa8",
   "metadata": {},
   "outputs": [],
   "source": [
    "df_cars_final['url_model'] = \"\""
   ]
  },
  {
   "cell_type": "code",
   "execution_count": 82,
   "id": "705d4060-b6c7-44b4-b2fc-ccb80d6ebd20",
   "metadata": {},
   "outputs": [
    {
     "data": {
      "text/plain": [
       "array(['Maruti', 'Ford', 'Tata', 'Hyundai', 'Jeep', 'Honda', 'Mahindra',\n",
       "       'Renault', 'Mercedes-Benz', 'Kia', 'Skoda', 'Volkswagen', 'MG',\n",
       "       'Toyota', 'Datsun'], dtype=object)"
      ]
     },
     "execution_count": 82,
     "metadata": {},
     "output_type": "execute_result"
    }
   ],
   "source": [
    "df_cars_final['oem'].unique()"
   ]
  },
  {
   "cell_type": "code",
   "execution_count": 83,
   "id": "95b38d79-8453-483b-b517-f94a12ed280b",
   "metadata": {},
   "outputs": [],
   "source": [
    "df_cars_final.loc[df_cars_final['oem'] == 'Maruti', 'url_model'] = 'https://logos-world.net/wp-content/uploads/2022/12/Maruti-Suzuki-Logo.png'\n",
    "df_cars_final.loc[df_cars_final['oem'] == 'Ford', 'url_model'] = 'https://logos-world.net/wp-content/uploads/2021/05/Ford-Logo.png'\n",
    "df_cars_final.loc[df_cars_final['oem'] == 'Tata','url_model'] = 'https://logos-world.net/wp-content/uploads/2021/11/Tata-Logo.png'\n",
    "df_cars_final.loc[df_cars_final['oem'] == 'Hyundai','url_model'] = 'https://logos-world.net/wp-content/uploads/2021/03/Hyundai-Logo.png'\n",
    "df_cars_final.loc[df_cars_final['oem'] == 'Jeep','url_model'] = 'https://logos-world.net/wp-content/uploads/2021/09/Jeep-Logo.png'\n",
    "df_cars_final.loc[df_cars_final['oem'] == 'Honda','url_model'] = 'https://logos-world.net/wp-content/uploads/2021/03/Honda-Logo.png'\n",
    "df_cars_final.loc[df_cars_final['oem'] == 'Mahindra','url_model'] = 'https://logos-world.net/wp-content/uploads/2022/12/Mahindra-Logo.png'\n",
    "df_cars_final.loc[df_cars_final['oem'] == 'Renault','url_model'] = 'https://logos-world.net/wp-content/uploads/2021/04/Renault-Logo.png'\n",
    "df_cars_final.loc[df_cars_final['oem'] == 'Mercedes-Benz','url_model'] = 'https://logos-world.net/wp-content/uploads/2020/05/Mercedes-Benz-Logo.png'\n",
    "df_cars_final.loc[df_cars_final['oem'] == 'Kia','url_model'] = 'https://logos-world.net/wp-content/uploads/2021/03/Kia-Logo.png'\n",
    "df_cars_final.loc[df_cars_final['oem'] == 'Skoda','url_model'] = 'https://logos-world.net/wp-content/uploads/2021/06/Skoda-logo.png'\n",
    "df_cars_final.loc[df_cars_final['oem'] == 'Volkswagen','url_model'] = 'https://logos-world.net/wp-content/uploads/2021/04/Volkswagen-Logo.png'\n",
    "df_cars_final.loc[df_cars_final['oem'] == 'MG','url_model'] = 'https://logos-world.net/wp-content/uploads/2021/09/MG-Logo.png'\n",
    "df_cars_final.loc[df_cars_final['oem'] == 'Toyota','url_model'] = 'https://logos-world.net/wp-content/uploads/2020/04/Toyota-Logo.png'\n"
   ]
  },
  {
   "cell_type": "code",
   "execution_count": 84,
   "id": "bb9dd310-a91e-426f-9022-872047ff10b8",
   "metadata": {},
   "outputs": [],
   "source": [
    "df_cars_final.to_excel('all_cities_cars_with_url.xlsx', index=False)\n"
   ]
  },
  {
   "cell_type": "code",
   "execution_count": null,
   "id": "45a0733f-58de-4d01-89cd-4e5caeea677e",
   "metadata": {},
   "outputs": [],
   "source": []
  }
 ],
 "metadata": {
  "kernelspec": {
   "display_name": "Python 3 (ipykernel)",
   "language": "python",
   "name": "python3"
  },
  "language_info": {
   "codemirror_mode": {
    "name": "ipython",
    "version": 3
   },
   "file_extension": ".py",
   "mimetype": "text/x-python",
   "name": "python",
   "nbconvert_exporter": "python",
   "pygments_lexer": "ipython3",
   "version": "3.12.2"
  }
 },
 "nbformat": 4,
 "nbformat_minor": 5
}
